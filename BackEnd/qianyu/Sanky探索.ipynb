{
 "cells": [
  {
   "cell_type": "markdown",
   "metadata": {},
   "source": [
    "#### 查找本机可支持中文的字体"
   ]
  },
  {
   "cell_type": "code",
   "execution_count": 1,
   "metadata": {},
   "outputs": [],
   "source": [
    "# import matplotlib.font_manager\n",
    "\n",
    "# # 获取所有可用字体\n",
    "# font_list = matplotlib.font_manager.findSystemFonts(fontpaths=None, fontext='ttf')\n",
    "\n",
    "# # 打印字体名称\n",
    "# # print(\"可用的字体:\")\n",
    "# for font in font_list:\n",
    "#     try:\n",
    "#         font_name = matplotlib.font_manager.FontProperties(fname=font).get_name()\n",
    "#         # print(font_name)\n",
    "#     except:\n",
    "#         pass  # 忽略无法读取的字体\n",
    "\n",
    "# # 打印支持中文的字体\n",
    "# print(\"\\n可能支持中文的字体:\")\n",
    "# chinese_fonts = ['SimHei', 'Microsoft YaHei', 'SimSun', 'NSimSun', 'FangSong', 'KaiTi', 'STSong', 'STKaiti', 'STFangsong', 'STXihei', 'STZhongsong', 'STHupo', 'STLiti', 'STXinwei', 'STXingkai', 'Arial Unicode MS', 'Songti SC']\n",
    "\n",
    "# for font in chinese_fonts:\n",
    "#     if any(font.lower() in f.lower() for f in font_list):\n",
    "#         print(font)\n",
    "\n",
    "# 设置中文字体\n",
    "import matplotlib.pyplot as plt\n",
    "plt.rcParams['font.sans-serif'] = ['Songti SC']\n",
    "plt.rcParams['axes.unicode_minus'] = False  # 用来正常显示负号"
   ]
  },
  {
   "cell_type": "markdown",
   "metadata": {},
   "source": [
    "#### Toy Sankey\n",
    "\n",
    "Plotly的graph_objects模块中的Sankey图是基于桑基图（Sankey Diagram）的原理来绘制的。桑基图是一种特殊类型的流程图，用于可视化从一组值到另一组值的流量。以下是Plotly绘制Sankey图的基本原理：\n",
    "\n",
    "1. 数据结构：\n",
    "   - Plotly使用字典结构来定义Sankey图的数据。\n",
    "   - 主要包含node和link两个键，分别定义节点和链接的属性。\n",
    "\n",
    "2. 链接（Links）：\n",
    "   - 节点之间的连接表示流量或数据的传输。\n",
    "   - 链接的宽度通常与流量的大小成正比。\n",
    "   - 在Plotly中，链接通过source、target和value属性来定义。\n",
    "\n",
    "3. 节点（Nodes）：\n",
    "   - 桑基图中的每个矩形块代表一个节点。\n",
    "   - 节点可以表示不同的类别、阶段或实体。\n",
    "   - 在Plotly中，节点通过label属性来命名。\n",
    "\n",
    "4. 布局算法：\n",
    "   - Plotly内部使用布局算法来自动排列节点和链接。\n",
    "   - 这个算法会尝试最小化链接的交叉，并优化整体布局。\n",
    "\n",
    "5. 颜色编码：\n",
    "   - 节点和链接可以使用不同的颜色来区分不同的类别或强调特定的流量。\n",
    "\n",
    "6. 交互性：\n",
    "   - Plotly的Sankey图支持交互式操作，如悬停显示详细信息、点击等。\n",
    "\n",
    "7. 自定义选项：\n",
    "   - 提供了多种自定义选项，如节点的排序、链接的颜色、标签的位置等。"
   ]
  },
  {
   "cell_type": "markdown",
   "metadata": {},
   "source": [
    "##### Sankey基本使用示例"
   ]
  },
  {
   "cell_type": "code",
   "execution_count": 1,
   "metadata": {},
   "outputs": [
    {
     "data": {
      "application/vnd.plotly.v1+json": {
       "config": {
        "plotlyServerURL": "https://plot.ly"
       },
       "data": [
        {
         "link": {
          "source": [
           0,
           1,
           0,
           2,
           3,
           3
          ],
          "target": [
           2,
           3,
           3,
           4,
           4,
           5
          ],
          "value": [
           8,
           4,
           2,
           8,
           4,
           2
          ]
         },
         "node": {
          "color": "blue",
          "label": [
           "A",
           "B",
           "C",
           "D",
           "E",
           "F"
          ],
          "line": {
           "color": "black",
           "width": 0.5
          },
          "pad": 15,
          "thickness": 20
         },
         "type": "sankey"
        }
       ],
       "layout": {
        "template": {
         "data": {
          "bar": [
           {
            "error_x": {
             "color": "#2a3f5f"
            },
            "error_y": {
             "color": "#2a3f5f"
            },
            "marker": {
             "line": {
              "color": "#E5ECF6",
              "width": 0.5
             },
             "pattern": {
              "fillmode": "overlay",
              "size": 10,
              "solidity": 0.2
             }
            },
            "type": "bar"
           }
          ],
          "barpolar": [
           {
            "marker": {
             "line": {
              "color": "#E5ECF6",
              "width": 0.5
             },
             "pattern": {
              "fillmode": "overlay",
              "size": 10,
              "solidity": 0.2
             }
            },
            "type": "barpolar"
           }
          ],
          "carpet": [
           {
            "aaxis": {
             "endlinecolor": "#2a3f5f",
             "gridcolor": "white",
             "linecolor": "white",
             "minorgridcolor": "white",
             "startlinecolor": "#2a3f5f"
            },
            "baxis": {
             "endlinecolor": "#2a3f5f",
             "gridcolor": "white",
             "linecolor": "white",
             "minorgridcolor": "white",
             "startlinecolor": "#2a3f5f"
            },
            "type": "carpet"
           }
          ],
          "choropleth": [
           {
            "colorbar": {
             "outlinewidth": 0,
             "ticks": ""
            },
            "type": "choropleth"
           }
          ],
          "contour": [
           {
            "colorbar": {
             "outlinewidth": 0,
             "ticks": ""
            },
            "colorscale": [
             [
              0,
              "#0d0887"
             ],
             [
              0.1111111111111111,
              "#46039f"
             ],
             [
              0.2222222222222222,
              "#7201a8"
             ],
             [
              0.3333333333333333,
              "#9c179e"
             ],
             [
              0.4444444444444444,
              "#bd3786"
             ],
             [
              0.5555555555555556,
              "#d8576b"
             ],
             [
              0.6666666666666666,
              "#ed7953"
             ],
             [
              0.7777777777777778,
              "#fb9f3a"
             ],
             [
              0.8888888888888888,
              "#fdca26"
             ],
             [
              1,
              "#f0f921"
             ]
            ],
            "type": "contour"
           }
          ],
          "contourcarpet": [
           {
            "colorbar": {
             "outlinewidth": 0,
             "ticks": ""
            },
            "type": "contourcarpet"
           }
          ],
          "heatmap": [
           {
            "colorbar": {
             "outlinewidth": 0,
             "ticks": ""
            },
            "colorscale": [
             [
              0,
              "#0d0887"
             ],
             [
              0.1111111111111111,
              "#46039f"
             ],
             [
              0.2222222222222222,
              "#7201a8"
             ],
             [
              0.3333333333333333,
              "#9c179e"
             ],
             [
              0.4444444444444444,
              "#bd3786"
             ],
             [
              0.5555555555555556,
              "#d8576b"
             ],
             [
              0.6666666666666666,
              "#ed7953"
             ],
             [
              0.7777777777777778,
              "#fb9f3a"
             ],
             [
              0.8888888888888888,
              "#fdca26"
             ],
             [
              1,
              "#f0f921"
             ]
            ],
            "type": "heatmap"
           }
          ],
          "heatmapgl": [
           {
            "colorbar": {
             "outlinewidth": 0,
             "ticks": ""
            },
            "colorscale": [
             [
              0,
              "#0d0887"
             ],
             [
              0.1111111111111111,
              "#46039f"
             ],
             [
              0.2222222222222222,
              "#7201a8"
             ],
             [
              0.3333333333333333,
              "#9c179e"
             ],
             [
              0.4444444444444444,
              "#bd3786"
             ],
             [
              0.5555555555555556,
              "#d8576b"
             ],
             [
              0.6666666666666666,
              "#ed7953"
             ],
             [
              0.7777777777777778,
              "#fb9f3a"
             ],
             [
              0.8888888888888888,
              "#fdca26"
             ],
             [
              1,
              "#f0f921"
             ]
            ],
            "type": "heatmapgl"
           }
          ],
          "histogram": [
           {
            "marker": {
             "pattern": {
              "fillmode": "overlay",
              "size": 10,
              "solidity": 0.2
             }
            },
            "type": "histogram"
           }
          ],
          "histogram2d": [
           {
            "colorbar": {
             "outlinewidth": 0,
             "ticks": ""
            },
            "colorscale": [
             [
              0,
              "#0d0887"
             ],
             [
              0.1111111111111111,
              "#46039f"
             ],
             [
              0.2222222222222222,
              "#7201a8"
             ],
             [
              0.3333333333333333,
              "#9c179e"
             ],
             [
              0.4444444444444444,
              "#bd3786"
             ],
             [
              0.5555555555555556,
              "#d8576b"
             ],
             [
              0.6666666666666666,
              "#ed7953"
             ],
             [
              0.7777777777777778,
              "#fb9f3a"
             ],
             [
              0.8888888888888888,
              "#fdca26"
             ],
             [
              1,
              "#f0f921"
             ]
            ],
            "type": "histogram2d"
           }
          ],
          "histogram2dcontour": [
           {
            "colorbar": {
             "outlinewidth": 0,
             "ticks": ""
            },
            "colorscale": [
             [
              0,
              "#0d0887"
             ],
             [
              0.1111111111111111,
              "#46039f"
             ],
             [
              0.2222222222222222,
              "#7201a8"
             ],
             [
              0.3333333333333333,
              "#9c179e"
             ],
             [
              0.4444444444444444,
              "#bd3786"
             ],
             [
              0.5555555555555556,
              "#d8576b"
             ],
             [
              0.6666666666666666,
              "#ed7953"
             ],
             [
              0.7777777777777778,
              "#fb9f3a"
             ],
             [
              0.8888888888888888,
              "#fdca26"
             ],
             [
              1,
              "#f0f921"
             ]
            ],
            "type": "histogram2dcontour"
           }
          ],
          "mesh3d": [
           {
            "colorbar": {
             "outlinewidth": 0,
             "ticks": ""
            },
            "type": "mesh3d"
           }
          ],
          "parcoords": [
           {
            "line": {
             "colorbar": {
              "outlinewidth": 0,
              "ticks": ""
             }
            },
            "type": "parcoords"
           }
          ],
          "pie": [
           {
            "automargin": true,
            "type": "pie"
           }
          ],
          "scatter": [
           {
            "fillpattern": {
             "fillmode": "overlay",
             "size": 10,
             "solidity": 0.2
            },
            "type": "scatter"
           }
          ],
          "scatter3d": [
           {
            "line": {
             "colorbar": {
              "outlinewidth": 0,
              "ticks": ""
             }
            },
            "marker": {
             "colorbar": {
              "outlinewidth": 0,
              "ticks": ""
             }
            },
            "type": "scatter3d"
           }
          ],
          "scattercarpet": [
           {
            "marker": {
             "colorbar": {
              "outlinewidth": 0,
              "ticks": ""
             }
            },
            "type": "scattercarpet"
           }
          ],
          "scattergeo": [
           {
            "marker": {
             "colorbar": {
              "outlinewidth": 0,
              "ticks": ""
             }
            },
            "type": "scattergeo"
           }
          ],
          "scattergl": [
           {
            "marker": {
             "colorbar": {
              "outlinewidth": 0,
              "ticks": ""
             }
            },
            "type": "scattergl"
           }
          ],
          "scattermapbox": [
           {
            "marker": {
             "colorbar": {
              "outlinewidth": 0,
              "ticks": ""
             }
            },
            "type": "scattermapbox"
           }
          ],
          "scatterpolar": [
           {
            "marker": {
             "colorbar": {
              "outlinewidth": 0,
              "ticks": ""
             }
            },
            "type": "scatterpolar"
           }
          ],
          "scatterpolargl": [
           {
            "marker": {
             "colorbar": {
              "outlinewidth": 0,
              "ticks": ""
             }
            },
            "type": "scatterpolargl"
           }
          ],
          "scatterternary": [
           {
            "marker": {
             "colorbar": {
              "outlinewidth": 0,
              "ticks": ""
             }
            },
            "type": "scatterternary"
           }
          ],
          "surface": [
           {
            "colorbar": {
             "outlinewidth": 0,
             "ticks": ""
            },
            "colorscale": [
             [
              0,
              "#0d0887"
             ],
             [
              0.1111111111111111,
              "#46039f"
             ],
             [
              0.2222222222222222,
              "#7201a8"
             ],
             [
              0.3333333333333333,
              "#9c179e"
             ],
             [
              0.4444444444444444,
              "#bd3786"
             ],
             [
              0.5555555555555556,
              "#d8576b"
             ],
             [
              0.6666666666666666,
              "#ed7953"
             ],
             [
              0.7777777777777778,
              "#fb9f3a"
             ],
             [
              0.8888888888888888,
              "#fdca26"
             ],
             [
              1,
              "#f0f921"
             ]
            ],
            "type": "surface"
           }
          ],
          "table": [
           {
            "cells": {
             "fill": {
              "color": "#EBF0F8"
             },
             "line": {
              "color": "white"
             }
            },
            "header": {
             "fill": {
              "color": "#C8D4E3"
             },
             "line": {
              "color": "white"
             }
            },
            "type": "table"
           }
          ]
         },
         "layout": {
          "annotationdefaults": {
           "arrowcolor": "#2a3f5f",
           "arrowhead": 0,
           "arrowwidth": 1
          },
          "autotypenumbers": "strict",
          "coloraxis": {
           "colorbar": {
            "outlinewidth": 0,
            "ticks": ""
           }
          },
          "colorscale": {
           "diverging": [
            [
             0,
             "#8e0152"
            ],
            [
             0.1,
             "#c51b7d"
            ],
            [
             0.2,
             "#de77ae"
            ],
            [
             0.3,
             "#f1b6da"
            ],
            [
             0.4,
             "#fde0ef"
            ],
            [
             0.5,
             "#f7f7f7"
            ],
            [
             0.6,
             "#e6f5d0"
            ],
            [
             0.7,
             "#b8e186"
            ],
            [
             0.8,
             "#7fbc41"
            ],
            [
             0.9,
             "#4d9221"
            ],
            [
             1,
             "#276419"
            ]
           ],
           "sequential": [
            [
             0,
             "#0d0887"
            ],
            [
             0.1111111111111111,
             "#46039f"
            ],
            [
             0.2222222222222222,
             "#7201a8"
            ],
            [
             0.3333333333333333,
             "#9c179e"
            ],
            [
             0.4444444444444444,
             "#bd3786"
            ],
            [
             0.5555555555555556,
             "#d8576b"
            ],
            [
             0.6666666666666666,
             "#ed7953"
            ],
            [
             0.7777777777777778,
             "#fb9f3a"
            ],
            [
             0.8888888888888888,
             "#fdca26"
            ],
            [
             1,
             "#f0f921"
            ]
           ],
           "sequentialminus": [
            [
             0,
             "#0d0887"
            ],
            [
             0.1111111111111111,
             "#46039f"
            ],
            [
             0.2222222222222222,
             "#7201a8"
            ],
            [
             0.3333333333333333,
             "#9c179e"
            ],
            [
             0.4444444444444444,
             "#bd3786"
            ],
            [
             0.5555555555555556,
             "#d8576b"
            ],
            [
             0.6666666666666666,
             "#ed7953"
            ],
            [
             0.7777777777777778,
             "#fb9f3a"
            ],
            [
             0.8888888888888888,
             "#fdca26"
            ],
            [
             1,
             "#f0f921"
            ]
           ]
          },
          "colorway": [
           "#636efa",
           "#EF553B",
           "#00cc96",
           "#ab63fa",
           "#FFA15A",
           "#19d3f3",
           "#FF6692",
           "#B6E880",
           "#FF97FF",
           "#FECB52"
          ],
          "font": {
           "color": "#2a3f5f"
          },
          "geo": {
           "bgcolor": "white",
           "lakecolor": "white",
           "landcolor": "#E5ECF6",
           "showlakes": true,
           "showland": true,
           "subunitcolor": "white"
          },
          "hoverlabel": {
           "align": "left"
          },
          "hovermode": "closest",
          "mapbox": {
           "style": "light"
          },
          "paper_bgcolor": "white",
          "plot_bgcolor": "#E5ECF6",
          "polar": {
           "angularaxis": {
            "gridcolor": "white",
            "linecolor": "white",
            "ticks": ""
           },
           "bgcolor": "#E5ECF6",
           "radialaxis": {
            "gridcolor": "white",
            "linecolor": "white",
            "ticks": ""
           }
          },
          "scene": {
           "xaxis": {
            "backgroundcolor": "#E5ECF6",
            "gridcolor": "white",
            "gridwidth": 2,
            "linecolor": "white",
            "showbackground": true,
            "ticks": "",
            "zerolinecolor": "white"
           },
           "yaxis": {
            "backgroundcolor": "#E5ECF6",
            "gridcolor": "white",
            "gridwidth": 2,
            "linecolor": "white",
            "showbackground": true,
            "ticks": "",
            "zerolinecolor": "white"
           },
           "zaxis": {
            "backgroundcolor": "#E5ECF6",
            "gridcolor": "white",
            "gridwidth": 2,
            "linecolor": "white",
            "showbackground": true,
            "ticks": "",
            "zerolinecolor": "white"
           }
          },
          "shapedefaults": {
           "line": {
            "color": "#2a3f5f"
           }
          },
          "ternary": {
           "aaxis": {
            "gridcolor": "white",
            "linecolor": "white",
            "ticks": ""
           },
           "baxis": {
            "gridcolor": "white",
            "linecolor": "white",
            "ticks": ""
           },
           "bgcolor": "#E5ECF6",
           "caxis": {
            "gridcolor": "white",
            "linecolor": "white",
            "ticks": ""
           }
          },
          "title": {
           "x": 0.05
          },
          "xaxis": {
           "automargin": true,
           "gridcolor": "white",
           "linecolor": "white",
           "ticks": "",
           "title": {
            "standoff": 15
           },
           "zerolinecolor": "white",
           "zerolinewidth": 2
          },
          "yaxis": {
           "automargin": true,
           "gridcolor": "white",
           "linecolor": "white",
           "ticks": "",
           "title": {
            "standoff": 15
           },
           "zerolinecolor": "white",
           "zerolinewidth": 2
          }
         }
        }
       }
      }
     },
     "metadata": {},
     "output_type": "display_data"
    }
   ],
   "source": [
    "import plotly.graph_objects as go\n",
    "\n",
    "fig = go.Figure(data=[go.Sankey(\n",
    "    node = dict(\n",
    "      pad = 15,\n",
    "      thickness = 20,\n",
    "      line = dict(color = \"black\", width = 0.5),\n",
    "      label = [\"A\", \"B\", \"C\", \"D\", \"E\", \"F\"],\n",
    "      color = \"blue\"\n",
    "    ),\n",
    "    link = dict(\n",
    "      source = [0, 1, 0, 2, 3, 3], # 使用索引\n",
    "      target = [2, 3, 3, 4, 4, 5],\n",
    "      value = [8, 4, 2, 8, 4, 2]\n",
    "  ))])\n",
    "\n",
    "fig.show()"
   ]
  },
  {
   "cell_type": "markdown",
   "metadata": {},
   "source": [
    "##### 统一 source 和 target\n",
    "- source 和 target 在y轴的布局可以根据value自动计算\n",
    "- link 的颜色根据target的节点颜色来定义\n",
    "- 左右两边的节点y值相同"
   ]
  },
  {
   "cell_type": "code",
   "execution_count": 37,
   "metadata": {},
   "outputs": [
    {
     "data": {
      "application/vnd.plotly.v1+json": {
       "config": {
        "plotlyServerURL": "https://plot.ly"
       },
       "data": [
        {
         "link": {
          "color": [
           "rgba(255, 0, 0, 0.1)",
           "rgba(0, 128, 0, 0.1)",
           "rgba(0, 128, 0, 0.1)",
           "rgba(0, 128, 0, 0.1)",
           "rgba(0, 128, 0, 0.1)",
           "rgba(0, 0, 255, 0.1)",
           "rgba(0, 128, 0, 0.1)",
           "rgba(0, 128, 0, 0.1)",
           "rgba(0, 128, 0, 0.1)",
           "rgba(255, 0, 0, 0.1)",
           "rgba(255, 0, 0, 0.1)",
           "rgba(255, 0, 0, 0.1)"
          ],
          "source": [
           2,
           3,
           4,
           5,
           6,
           7,
           0,
           1,
           2,
           3,
           4,
           5
          ],
          "target": [
           10,
           11,
           12,
           13,
           12,
           14,
           11,
           12,
           13,
           8,
           9,
           10
          ],
          "value": [
           1,
           1,
           1,
           1,
           1,
           1,
           1,
           1,
           1,
           1,
           1,
           1
          ]
         },
         "node": {
          "color": [
           "red",
           "red",
           "red",
           "green",
           "green",
           "green",
           "blue",
           "blue",
           "red",
           "red",
           "red",
           "green",
           "green",
           "green",
           "blue",
           "blue"
          ],
          "label": [
           "A1",
           "A2",
           "A3",
           "B1",
           "B2",
           "B3",
           "C1",
           "C2",
           "A1",
           "A2",
           "A3",
           "B1",
           "B2",
           "B3",
           "C1",
           "C2"
          ],
          "line": {
           "color": "black",
           "width": 0.5
          },
          "pad": 15,
          "thickness": 20,
          "x": [
           0.01,
           0.01,
           0.01,
           0.01,
           0.01,
           0.01,
           0.01,
           0.01,
           0.99,
           0.99,
           0.99,
           0.99,
           0.99,
           0.99,
           0.99,
           0.99
          ],
          "y": [
           0.041666666666666664,
           0.125,
           0.25,
           0.4166666666666667,
           0.625,
           0.8333333333333334,
           0.9583333333333334,
           1,
           0.041666666666666664,
           0.125,
           0.25,
           0.4166666666666667,
           0.625,
           0.8333333333333334,
           0.9583333333333334,
           1
          ]
         },
         "type": "sankey"
        }
       ],
       "layout": {
        "annotations": [
         {
          "showarrow": false,
          "text": "buyer",
          "textangle": -90,
          "x": -0.05,
          "xref": "paper",
          "y": 0.5,
          "yref": "paper"
         },
         {
          "showarrow": false,
          "text": "seller",
          "textangle": 90,
          "x": 1.05,
          "xref": "paper",
          "y": 0.5,
          "yref": "paper"
         }
        ],
        "font": {
         "size": 10
        },
        "height": 300,
        "template": {
         "data": {
          "bar": [
           {
            "error_x": {
             "color": "#2a3f5f"
            },
            "error_y": {
             "color": "#2a3f5f"
            },
            "marker": {
             "line": {
              "color": "#E5ECF6",
              "width": 0.5
             },
             "pattern": {
              "fillmode": "overlay",
              "size": 10,
              "solidity": 0.2
             }
            },
            "type": "bar"
           }
          ],
          "barpolar": [
           {
            "marker": {
             "line": {
              "color": "#E5ECF6",
              "width": 0.5
             },
             "pattern": {
              "fillmode": "overlay",
              "size": 10,
              "solidity": 0.2
             }
            },
            "type": "barpolar"
           }
          ],
          "carpet": [
           {
            "aaxis": {
             "endlinecolor": "#2a3f5f",
             "gridcolor": "white",
             "linecolor": "white",
             "minorgridcolor": "white",
             "startlinecolor": "#2a3f5f"
            },
            "baxis": {
             "endlinecolor": "#2a3f5f",
             "gridcolor": "white",
             "linecolor": "white",
             "minorgridcolor": "white",
             "startlinecolor": "#2a3f5f"
            },
            "type": "carpet"
           }
          ],
          "choropleth": [
           {
            "colorbar": {
             "outlinewidth": 0,
             "ticks": ""
            },
            "type": "choropleth"
           }
          ],
          "contour": [
           {
            "colorbar": {
             "outlinewidth": 0,
             "ticks": ""
            },
            "colorscale": [
             [
              0,
              "#0d0887"
             ],
             [
              0.1111111111111111,
              "#46039f"
             ],
             [
              0.2222222222222222,
              "#7201a8"
             ],
             [
              0.3333333333333333,
              "#9c179e"
             ],
             [
              0.4444444444444444,
              "#bd3786"
             ],
             [
              0.5555555555555556,
              "#d8576b"
             ],
             [
              0.6666666666666666,
              "#ed7953"
             ],
             [
              0.7777777777777778,
              "#fb9f3a"
             ],
             [
              0.8888888888888888,
              "#fdca26"
             ],
             [
              1,
              "#f0f921"
             ]
            ],
            "type": "contour"
           }
          ],
          "contourcarpet": [
           {
            "colorbar": {
             "outlinewidth": 0,
             "ticks": ""
            },
            "type": "contourcarpet"
           }
          ],
          "heatmap": [
           {
            "colorbar": {
             "outlinewidth": 0,
             "ticks": ""
            },
            "colorscale": [
             [
              0,
              "#0d0887"
             ],
             [
              0.1111111111111111,
              "#46039f"
             ],
             [
              0.2222222222222222,
              "#7201a8"
             ],
             [
              0.3333333333333333,
              "#9c179e"
             ],
             [
              0.4444444444444444,
              "#bd3786"
             ],
             [
              0.5555555555555556,
              "#d8576b"
             ],
             [
              0.6666666666666666,
              "#ed7953"
             ],
             [
              0.7777777777777778,
              "#fb9f3a"
             ],
             [
              0.8888888888888888,
              "#fdca26"
             ],
             [
              1,
              "#f0f921"
             ]
            ],
            "type": "heatmap"
           }
          ],
          "heatmapgl": [
           {
            "colorbar": {
             "outlinewidth": 0,
             "ticks": ""
            },
            "colorscale": [
             [
              0,
              "#0d0887"
             ],
             [
              0.1111111111111111,
              "#46039f"
             ],
             [
              0.2222222222222222,
              "#7201a8"
             ],
             [
              0.3333333333333333,
              "#9c179e"
             ],
             [
              0.4444444444444444,
              "#bd3786"
             ],
             [
              0.5555555555555556,
              "#d8576b"
             ],
             [
              0.6666666666666666,
              "#ed7953"
             ],
             [
              0.7777777777777778,
              "#fb9f3a"
             ],
             [
              0.8888888888888888,
              "#fdca26"
             ],
             [
              1,
              "#f0f921"
             ]
            ],
            "type": "heatmapgl"
           }
          ],
          "histogram": [
           {
            "marker": {
             "pattern": {
              "fillmode": "overlay",
              "size": 10,
              "solidity": 0.2
             }
            },
            "type": "histogram"
           }
          ],
          "histogram2d": [
           {
            "colorbar": {
             "outlinewidth": 0,
             "ticks": ""
            },
            "colorscale": [
             [
              0,
              "#0d0887"
             ],
             [
              0.1111111111111111,
              "#46039f"
             ],
             [
              0.2222222222222222,
              "#7201a8"
             ],
             [
              0.3333333333333333,
              "#9c179e"
             ],
             [
              0.4444444444444444,
              "#bd3786"
             ],
             [
              0.5555555555555556,
              "#d8576b"
             ],
             [
              0.6666666666666666,
              "#ed7953"
             ],
             [
              0.7777777777777778,
              "#fb9f3a"
             ],
             [
              0.8888888888888888,
              "#fdca26"
             ],
             [
              1,
              "#f0f921"
             ]
            ],
            "type": "histogram2d"
           }
          ],
          "histogram2dcontour": [
           {
            "colorbar": {
             "outlinewidth": 0,
             "ticks": ""
            },
            "colorscale": [
             [
              0,
              "#0d0887"
             ],
             [
              0.1111111111111111,
              "#46039f"
             ],
             [
              0.2222222222222222,
              "#7201a8"
             ],
             [
              0.3333333333333333,
              "#9c179e"
             ],
             [
              0.4444444444444444,
              "#bd3786"
             ],
             [
              0.5555555555555556,
              "#d8576b"
             ],
             [
              0.6666666666666666,
              "#ed7953"
             ],
             [
              0.7777777777777778,
              "#fb9f3a"
             ],
             [
              0.8888888888888888,
              "#fdca26"
             ],
             [
              1,
              "#f0f921"
             ]
            ],
            "type": "histogram2dcontour"
           }
          ],
          "mesh3d": [
           {
            "colorbar": {
             "outlinewidth": 0,
             "ticks": ""
            },
            "type": "mesh3d"
           }
          ],
          "parcoords": [
           {
            "line": {
             "colorbar": {
              "outlinewidth": 0,
              "ticks": ""
             }
            },
            "type": "parcoords"
           }
          ],
          "pie": [
           {
            "automargin": true,
            "type": "pie"
           }
          ],
          "scatter": [
           {
            "fillpattern": {
             "fillmode": "overlay",
             "size": 10,
             "solidity": 0.2
            },
            "type": "scatter"
           }
          ],
          "scatter3d": [
           {
            "line": {
             "colorbar": {
              "outlinewidth": 0,
              "ticks": ""
             }
            },
            "marker": {
             "colorbar": {
              "outlinewidth": 0,
              "ticks": ""
             }
            },
            "type": "scatter3d"
           }
          ],
          "scattercarpet": [
           {
            "marker": {
             "colorbar": {
              "outlinewidth": 0,
              "ticks": ""
             }
            },
            "type": "scattercarpet"
           }
          ],
          "scattergeo": [
           {
            "marker": {
             "colorbar": {
              "outlinewidth": 0,
              "ticks": ""
             }
            },
            "type": "scattergeo"
           }
          ],
          "scattergl": [
           {
            "marker": {
             "colorbar": {
              "outlinewidth": 0,
              "ticks": ""
             }
            },
            "type": "scattergl"
           }
          ],
          "scattermapbox": [
           {
            "marker": {
             "colorbar": {
              "outlinewidth": 0,
              "ticks": ""
             }
            },
            "type": "scattermapbox"
           }
          ],
          "scatterpolar": [
           {
            "marker": {
             "colorbar": {
              "outlinewidth": 0,
              "ticks": ""
             }
            },
            "type": "scatterpolar"
           }
          ],
          "scatterpolargl": [
           {
            "marker": {
             "colorbar": {
              "outlinewidth": 0,
              "ticks": ""
             }
            },
            "type": "scatterpolargl"
           }
          ],
          "scatterternary": [
           {
            "marker": {
             "colorbar": {
              "outlinewidth": 0,
              "ticks": ""
             }
            },
            "type": "scatterternary"
           }
          ],
          "surface": [
           {
            "colorbar": {
             "outlinewidth": 0,
             "ticks": ""
            },
            "colorscale": [
             [
              0,
              "#0d0887"
             ],
             [
              0.1111111111111111,
              "#46039f"
             ],
             [
              0.2222222222222222,
              "#7201a8"
             ],
             [
              0.3333333333333333,
              "#9c179e"
             ],
             [
              0.4444444444444444,
              "#bd3786"
             ],
             [
              0.5555555555555556,
              "#d8576b"
             ],
             [
              0.6666666666666666,
              "#ed7953"
             ],
             [
              0.7777777777777778,
              "#fb9f3a"
             ],
             [
              0.8888888888888888,
              "#fdca26"
             ],
             [
              1,
              "#f0f921"
             ]
            ],
            "type": "surface"
           }
          ],
          "table": [
           {
            "cells": {
             "fill": {
              "color": "#EBF0F8"
             },
             "line": {
              "color": "white"
             }
            },
            "header": {
             "fill": {
              "color": "#C8D4E3"
             },
             "line": {
              "color": "white"
             }
            },
            "type": "table"
           }
          ]
         },
         "layout": {
          "annotationdefaults": {
           "arrowcolor": "#2a3f5f",
           "arrowhead": 0,
           "arrowwidth": 1
          },
          "autotypenumbers": "strict",
          "coloraxis": {
           "colorbar": {
            "outlinewidth": 0,
            "ticks": ""
           }
          },
          "colorscale": {
           "diverging": [
            [
             0,
             "#8e0152"
            ],
            [
             0.1,
             "#c51b7d"
            ],
            [
             0.2,
             "#de77ae"
            ],
            [
             0.3,
             "#f1b6da"
            ],
            [
             0.4,
             "#fde0ef"
            ],
            [
             0.5,
             "#f7f7f7"
            ],
            [
             0.6,
             "#e6f5d0"
            ],
            [
             0.7,
             "#b8e186"
            ],
            [
             0.8,
             "#7fbc41"
            ],
            [
             0.9,
             "#4d9221"
            ],
            [
             1,
             "#276419"
            ]
           ],
           "sequential": [
            [
             0,
             "#0d0887"
            ],
            [
             0.1111111111111111,
             "#46039f"
            ],
            [
             0.2222222222222222,
             "#7201a8"
            ],
            [
             0.3333333333333333,
             "#9c179e"
            ],
            [
             0.4444444444444444,
             "#bd3786"
            ],
            [
             0.5555555555555556,
             "#d8576b"
            ],
            [
             0.6666666666666666,
             "#ed7953"
            ],
            [
             0.7777777777777778,
             "#fb9f3a"
            ],
            [
             0.8888888888888888,
             "#fdca26"
            ],
            [
             1,
             "#f0f921"
            ]
           ],
           "sequentialminus": [
            [
             0,
             "#0d0887"
            ],
            [
             0.1111111111111111,
             "#46039f"
            ],
            [
             0.2222222222222222,
             "#7201a8"
            ],
            [
             0.3333333333333333,
             "#9c179e"
            ],
            [
             0.4444444444444444,
             "#bd3786"
            ],
            [
             0.5555555555555556,
             "#d8576b"
            ],
            [
             0.6666666666666666,
             "#ed7953"
            ],
            [
             0.7777777777777778,
             "#fb9f3a"
            ],
            [
             0.8888888888888888,
             "#fdca26"
            ],
            [
             1,
             "#f0f921"
            ]
           ]
          },
          "colorway": [
           "#636efa",
           "#EF553B",
           "#00cc96",
           "#ab63fa",
           "#FFA15A",
           "#19d3f3",
           "#FF6692",
           "#B6E880",
           "#FF97FF",
           "#FECB52"
          ],
          "font": {
           "color": "#2a3f5f"
          },
          "geo": {
           "bgcolor": "white",
           "lakecolor": "white",
           "landcolor": "#E5ECF6",
           "showlakes": true,
           "showland": true,
           "subunitcolor": "white"
          },
          "hoverlabel": {
           "align": "left"
          },
          "hovermode": "closest",
          "mapbox": {
           "style": "light"
          },
          "paper_bgcolor": "white",
          "plot_bgcolor": "#E5ECF6",
          "polar": {
           "angularaxis": {
            "gridcolor": "white",
            "linecolor": "white",
            "ticks": ""
           },
           "bgcolor": "#E5ECF6",
           "radialaxis": {
            "gridcolor": "white",
            "linecolor": "white",
            "ticks": ""
           }
          },
          "scene": {
           "xaxis": {
            "backgroundcolor": "#E5ECF6",
            "gridcolor": "white",
            "gridwidth": 2,
            "linecolor": "white",
            "showbackground": true,
            "ticks": "",
            "zerolinecolor": "white"
           },
           "yaxis": {
            "backgroundcolor": "#E5ECF6",
            "gridcolor": "white",
            "gridwidth": 2,
            "linecolor": "white",
            "showbackground": true,
            "ticks": "",
            "zerolinecolor": "white"
           },
           "zaxis": {
            "backgroundcolor": "#E5ECF6",
            "gridcolor": "white",
            "gridwidth": 2,
            "linecolor": "white",
            "showbackground": true,
            "ticks": "",
            "zerolinecolor": "white"
           }
          },
          "shapedefaults": {
           "line": {
            "color": "#2a3f5f"
           }
          },
          "ternary": {
           "aaxis": {
            "gridcolor": "white",
            "linecolor": "white",
            "ticks": ""
           },
           "baxis": {
            "gridcolor": "white",
            "linecolor": "white",
            "ticks": ""
           },
           "bgcolor": "#E5ECF6",
           "caxis": {
            "gridcolor": "white",
            "linecolor": "white",
            "ticks": ""
           }
          },
          "title": {
           "x": 0.05
          },
          "xaxis": {
           "automargin": true,
           "gridcolor": "white",
           "linecolor": "white",
           "ticks": "",
           "title": {
            "standoff": 15
           },
           "zerolinecolor": "white",
           "zerolinewidth": 2
          },
          "yaxis": {
           "automargin": true,
           "gridcolor": "white",
           "linecolor": "white",
           "ticks": "",
           "title": {
            "standoff": 15
           },
           "zerolinecolor": "white",
           "zerolinewidth": 2
          }
         }
        },
        "title": {
         "text": "Buyer-Seller Sankey Diagram"
        },
        "width": 600
       }
      }
     },
     "metadata": {},
     "output_type": "display_data"
    }
   ],
   "source": [
    "import plotly.graph_objects as go\n",
    "import numpy as np\n",
    "from matplotlib.colors import to_rgba\n",
    "# 定义节点\n",
    "# label = [\"A1\", \"A2\", \"A3\", \"B1\", \"B2\", \"B3\", \"C1\", \"C2\"]\n",
    "label = [\"A1\", \"A2\", \"A3\", \"B1\", \"B2\", \"B3\", \"C1\", \"C2\",\n",
    "         \"A1\", \"A2\", \"A3\", \"B1\", \"B2\", \"B3\", \"C1\", \"C2\"]\n",
    "\n",
    "# 定义连接\n",
    "source = [2,  3,  4,  5,  6,  7,  0,  1,  2,  3, 4, 5]\n",
    "target = [10, 11, 12, 13, 12, 14, 11, 12, 13, 8, 9, 10]\n",
    "value =  [1,  1,  1,  1,  1,  1,  1,  1,  1,  1, 1, 1]\n",
    "\n",
    "# 定义节点颜色\n",
    "color = [\"red\", \"red\", \"red\", \"green\", \"green\", \"green\", \"blue\", \"blue\",\n",
    "         \"red\", \"red\", \"red\", \"green\", \"green\", \"green\", \"blue\", \"blue\"]\n",
    "\n",
    "# 计算每个节点的值\n",
    "node_values = np.zeros(len(label))\n",
    "for s, v in zip(source, value):\n",
    "    node_values[s] += v\n",
    "for t, v in zip(target, value):\n",
    "    node_values[t] += v\n",
    "\n",
    "# 计算累积和\n",
    "cumsum_left = np.cumsum([0] + list(node_values[:8]))\n",
    "cumsum_right = np.cumsum([0] + list(node_values[8:]))\n",
    "\n",
    "# 计算 y 坐标\n",
    "y = []\n",
    "for i in range(16):\n",
    "    if i < 8:\n",
    "        # 使左右两边的节点y值相同\n",
    "        tmp = max(cumsum_left[i] + cumsum_left[i+1], cumsum_right[i] + cumsum_right[i+1])\n",
    "        y.append(tmp / (2 * cumsum_left[-1]))\n",
    "        # y.append((cumsum_left[i] + cumsum_left[i+1]) / (2 * cumsum_left[-1]))\n",
    "    else:\n",
    "        tmp = max(cumsum_left[i-8] + cumsum_left[i-7], cumsum_right[i-8] + cumsum_right[i-7])\n",
    "        y.append(tmp / (2 * cumsum_left[-1]))\n",
    "        # y.append((cumsum_right[i-8] + cumsum_right[i-7]) / (2 * cumsum_right[-1]))\n",
    "    # print(y[-1])\n",
    "\n",
    "# 定义 x 坐标\n",
    "x = [0.01] * 8 + [0.99] * 8\n",
    "\n",
    "# 根据 target 定义节点颜色\n",
    "def add_alpha_2_color(color, alpha):\n",
    "    rgba = to_rgba(color)\n",
    "    return f\"rgba({int(rgba[0]*255)}, {int(rgba[1]*255)}, {int(rgba[2]*255)}, {alpha})\"\n",
    "link_color = [add_alpha_2_color(color[t], 0.1) for t in target]\n",
    "\n",
    "# 创建 Sankey 图\n",
    "fig = go.Figure(data=[go.Sankey(\n",
    "    node = dict(\n",
    "      pad = 15,\n",
    "      thickness = 20,\n",
    "      line = dict(color = \"black\", width = 0.5),\n",
    "      label = label,\n",
    "      color = color,\n",
    "      x = x,\n",
    "      y = y\n",
    "    ),\n",
    "    link = dict(\n",
    "      source = source,\n",
    "      target = target,\n",
    "      value = value,\n",
    "      color = link_color\n",
    "  ))])\n",
    "\n",
    "# 更新布局\n",
    "fig.update_layout(\n",
    "    title_text=\"Buyer-Seller Sankey Diagram\",\n",
    "    font_size=10,\n",
    "    width=600,\n",
    "    height=300\n",
    ")\n",
    "\n",
    "# 添加左右标签\n",
    "fig.add_annotation(x=-0.05, y=0.5, text=\"buyer\", showarrow=False, textangle=-90, xref=\"paper\", yref=\"paper\")\n",
    "fig.add_annotation(x=1.05, y=0.5, text=\"seller\", showarrow=False, textangle=90, xref=\"paper\", yref=\"paper\")\n",
    "\n",
    "# 显示图表\n",
    "fig.show()"
   ]
  },
  {
   "cell_type": "markdown",
   "metadata": {},
   "source": [
    "##### 多级Sankey"
   ]
  },
  {
   "cell_type": "code",
   "execution_count": 37,
   "metadata": {},
   "outputs": [
    {
     "name": "stdout",
     "output_type": "stream",
     "text": [
      "         date institution  buyer_volume  seller_volume\n",
      "0  2024.05.01          A1            94              0\n",
      "1  2024.05.01          A2            97              0\n",
      "2  2024.05.01          A3            50              0\n",
      "3  2024.05.01          B1            53              0\n",
      "4  2024.05.01          B2            53              0\n",
      "red\n",
      "red\n",
      "red\n",
      "green\n",
      "green\n",
      "green\n",
      "blue\n",
      "blue\n",
      "red\n",
      "red\n",
      "red\n",
      "green\n",
      "green\n",
      "green\n",
      "blue\n",
      "blue\n"
     ]
    },
    {
     "data": {
      "application/vnd.plotly.v1+json": {
       "config": {
        "plotlyServerURL": "https://plot.ly"
       },
       "data": [
        {
         "link": {
          "color": [
           "rgba(255, 0, 0, 0.1)",
           "rgba(255, 0, 0, 0.1)",
           "rgba(255, 0, 0, 0.1)",
           "rgba(0, 128, 0, 0.1)",
           "rgba(0, 128, 0, 0.1)",
           "rgba(0, 128, 0, 0.1)",
           "rgba(0, 0, 255, 0.1)",
           "rgba(0, 0, 255, 0.1)",
           "rgba(255, 0, 0, 0.1)",
           "rgba(255, 0, 0, 0.1)",
           "rgba(255, 0, 0, 0.1)",
           "rgba(0, 128, 0, 0.1)",
           "rgba(0, 128, 0, 0.1)",
           "rgba(0, 128, 0, 0.1)",
           "rgba(0, 0, 255, 0.1)",
           "rgba(0, 0, 255, 0.1)",
           "red",
           "red",
           "red",
           "green",
           "green",
           "green",
           "blue",
           "blue",
           "red",
           "red",
           "red",
           "green",
           "green",
           "green",
           "blue",
           "blue"
          ],
          "source": [
           0,
           1,
           2,
           3,
           4,
           5,
           6,
           7,
           8,
           9,
           10,
           11,
           12,
           13,
           14,
           15,
           0,
           1,
           2,
           3,
           4,
           5,
           6,
           7,
           8,
           9,
           10,
           11,
           12,
           13,
           14,
           15
          ],
          "target": [
           8,
           9,
           10,
           11,
           12,
           13,
           14,
           15,
           16,
           17,
           18,
           19,
           20,
           21,
           22,
           23,
           8,
           9,
           10,
           11,
           12,
           13,
           14,
           15,
           16,
           17,
           18,
           19,
           20,
           21,
           22,
           23
          ],
          "value": [
           94,
           97,
           50,
           53,
           53,
           89,
           59,
           69,
           21,
           23,
           24,
           12,
           38,
           23,
           24,
           37,
           36,
           6,
           24,
           1,
           39,
           46,
           17,
           25,
           63,
           58,
           59,
           70,
           66,
           55,
           65,
           97
          ]
         },
         "node": {
          "color": [
           "red",
           "red",
           "red",
           "green",
           "green",
           "green",
           "blue",
           "blue",
           "red",
           "red",
           "red",
           "green",
           "green",
           "green",
           "blue",
           "blue",
           "red",
           "red",
           "red",
           "green",
           "green",
           "green",
           "blue",
           "blue"
          ],
          "label": [
           "A1",
           "A2",
           "A3",
           "B1",
           "B2",
           "B3",
           "C1",
           "C2",
           "A1",
           "A2",
           "A3",
           "B1",
           "B2",
           "B3",
           "C1",
           "C2",
           "A1",
           "A2",
           "A3",
           "B1",
           "B2",
           "B3",
           "C1",
           "C2"
          ],
          "line": {
           "color": "black",
           "width": 0.5
          },
          "pad": 15,
          "thickness": 20
         },
         "type": "sankey"
        }
       ],
       "layout": {
        "annotations": [
         {
          "font": {
           "size": 14
          },
          "showarrow": false,
          "text": "2024.05.01",
          "x": 0,
          "xref": "paper",
          "y": 1.05,
          "yref": "paper"
         },
         {
          "font": {
           "size": 14
          },
          "showarrow": false,
          "text": "2024.04.28",
          "x": 0.5,
          "xref": "paper",
          "y": 1.05,
          "yref": "paper"
         },
         {
          "font": {
           "size": 14
          },
          "showarrow": false,
          "text": "2024.04.20",
          "x": 1,
          "xref": "paper",
          "y": 1.05,
          "yref": "paper"
         },
         {
          "showarrow": false,
          "text": "buyer",
          "textangle": -90,
          "x": -0.05,
          "xref": "paper",
          "y": 0.5,
          "yref": "paper"
         },
         {
          "showarrow": false,
          "text": "seller",
          "textangle": 90,
          "x": 1.05,
          "xref": "paper",
          "y": 0.5,
          "yref": "paper"
         }
        ],
        "autosize": false,
        "font": {
         "size": 10
        },
        "height": 400,
        "template": {
         "data": {
          "bar": [
           {
            "error_x": {
             "color": "#2a3f5f"
            },
            "error_y": {
             "color": "#2a3f5f"
            },
            "marker": {
             "line": {
              "color": "#E5ECF6",
              "width": 0.5
             },
             "pattern": {
              "fillmode": "overlay",
              "size": 10,
              "solidity": 0.2
             }
            },
            "type": "bar"
           }
          ],
          "barpolar": [
           {
            "marker": {
             "line": {
              "color": "#E5ECF6",
              "width": 0.5
             },
             "pattern": {
              "fillmode": "overlay",
              "size": 10,
              "solidity": 0.2
             }
            },
            "type": "barpolar"
           }
          ],
          "carpet": [
           {
            "aaxis": {
             "endlinecolor": "#2a3f5f",
             "gridcolor": "white",
             "linecolor": "white",
             "minorgridcolor": "white",
             "startlinecolor": "#2a3f5f"
            },
            "baxis": {
             "endlinecolor": "#2a3f5f",
             "gridcolor": "white",
             "linecolor": "white",
             "minorgridcolor": "white",
             "startlinecolor": "#2a3f5f"
            },
            "type": "carpet"
           }
          ],
          "choropleth": [
           {
            "colorbar": {
             "outlinewidth": 0,
             "ticks": ""
            },
            "type": "choropleth"
           }
          ],
          "contour": [
           {
            "colorbar": {
             "outlinewidth": 0,
             "ticks": ""
            },
            "colorscale": [
             [
              0,
              "#0d0887"
             ],
             [
              0.1111111111111111,
              "#46039f"
             ],
             [
              0.2222222222222222,
              "#7201a8"
             ],
             [
              0.3333333333333333,
              "#9c179e"
             ],
             [
              0.4444444444444444,
              "#bd3786"
             ],
             [
              0.5555555555555556,
              "#d8576b"
             ],
             [
              0.6666666666666666,
              "#ed7953"
             ],
             [
              0.7777777777777778,
              "#fb9f3a"
             ],
             [
              0.8888888888888888,
              "#fdca26"
             ],
             [
              1,
              "#f0f921"
             ]
            ],
            "type": "contour"
           }
          ],
          "contourcarpet": [
           {
            "colorbar": {
             "outlinewidth": 0,
             "ticks": ""
            },
            "type": "contourcarpet"
           }
          ],
          "heatmap": [
           {
            "colorbar": {
             "outlinewidth": 0,
             "ticks": ""
            },
            "colorscale": [
             [
              0,
              "#0d0887"
             ],
             [
              0.1111111111111111,
              "#46039f"
             ],
             [
              0.2222222222222222,
              "#7201a8"
             ],
             [
              0.3333333333333333,
              "#9c179e"
             ],
             [
              0.4444444444444444,
              "#bd3786"
             ],
             [
              0.5555555555555556,
              "#d8576b"
             ],
             [
              0.6666666666666666,
              "#ed7953"
             ],
             [
              0.7777777777777778,
              "#fb9f3a"
             ],
             [
              0.8888888888888888,
              "#fdca26"
             ],
             [
              1,
              "#f0f921"
             ]
            ],
            "type": "heatmap"
           }
          ],
          "heatmapgl": [
           {
            "colorbar": {
             "outlinewidth": 0,
             "ticks": ""
            },
            "colorscale": [
             [
              0,
              "#0d0887"
             ],
             [
              0.1111111111111111,
              "#46039f"
             ],
             [
              0.2222222222222222,
              "#7201a8"
             ],
             [
              0.3333333333333333,
              "#9c179e"
             ],
             [
              0.4444444444444444,
              "#bd3786"
             ],
             [
              0.5555555555555556,
              "#d8576b"
             ],
             [
              0.6666666666666666,
              "#ed7953"
             ],
             [
              0.7777777777777778,
              "#fb9f3a"
             ],
             [
              0.8888888888888888,
              "#fdca26"
             ],
             [
              1,
              "#f0f921"
             ]
            ],
            "type": "heatmapgl"
           }
          ],
          "histogram": [
           {
            "marker": {
             "pattern": {
              "fillmode": "overlay",
              "size": 10,
              "solidity": 0.2
             }
            },
            "type": "histogram"
           }
          ],
          "histogram2d": [
           {
            "colorbar": {
             "outlinewidth": 0,
             "ticks": ""
            },
            "colorscale": [
             [
              0,
              "#0d0887"
             ],
             [
              0.1111111111111111,
              "#46039f"
             ],
             [
              0.2222222222222222,
              "#7201a8"
             ],
             [
              0.3333333333333333,
              "#9c179e"
             ],
             [
              0.4444444444444444,
              "#bd3786"
             ],
             [
              0.5555555555555556,
              "#d8576b"
             ],
             [
              0.6666666666666666,
              "#ed7953"
             ],
             [
              0.7777777777777778,
              "#fb9f3a"
             ],
             [
              0.8888888888888888,
              "#fdca26"
             ],
             [
              1,
              "#f0f921"
             ]
            ],
            "type": "histogram2d"
           }
          ],
          "histogram2dcontour": [
           {
            "colorbar": {
             "outlinewidth": 0,
             "ticks": ""
            },
            "colorscale": [
             [
              0,
              "#0d0887"
             ],
             [
              0.1111111111111111,
              "#46039f"
             ],
             [
              0.2222222222222222,
              "#7201a8"
             ],
             [
              0.3333333333333333,
              "#9c179e"
             ],
             [
              0.4444444444444444,
              "#bd3786"
             ],
             [
              0.5555555555555556,
              "#d8576b"
             ],
             [
              0.6666666666666666,
              "#ed7953"
             ],
             [
              0.7777777777777778,
              "#fb9f3a"
             ],
             [
              0.8888888888888888,
              "#fdca26"
             ],
             [
              1,
              "#f0f921"
             ]
            ],
            "type": "histogram2dcontour"
           }
          ],
          "mesh3d": [
           {
            "colorbar": {
             "outlinewidth": 0,
             "ticks": ""
            },
            "type": "mesh3d"
           }
          ],
          "parcoords": [
           {
            "line": {
             "colorbar": {
              "outlinewidth": 0,
              "ticks": ""
             }
            },
            "type": "parcoords"
           }
          ],
          "pie": [
           {
            "automargin": true,
            "type": "pie"
           }
          ],
          "scatter": [
           {
            "fillpattern": {
             "fillmode": "overlay",
             "size": 10,
             "solidity": 0.2
            },
            "type": "scatter"
           }
          ],
          "scatter3d": [
           {
            "line": {
             "colorbar": {
              "outlinewidth": 0,
              "ticks": ""
             }
            },
            "marker": {
             "colorbar": {
              "outlinewidth": 0,
              "ticks": ""
             }
            },
            "type": "scatter3d"
           }
          ],
          "scattercarpet": [
           {
            "marker": {
             "colorbar": {
              "outlinewidth": 0,
              "ticks": ""
             }
            },
            "type": "scattercarpet"
           }
          ],
          "scattergeo": [
           {
            "marker": {
             "colorbar": {
              "outlinewidth": 0,
              "ticks": ""
             }
            },
            "type": "scattergeo"
           }
          ],
          "scattergl": [
           {
            "marker": {
             "colorbar": {
              "outlinewidth": 0,
              "ticks": ""
             }
            },
            "type": "scattergl"
           }
          ],
          "scattermapbox": [
           {
            "marker": {
             "colorbar": {
              "outlinewidth": 0,
              "ticks": ""
             }
            },
            "type": "scattermapbox"
           }
          ],
          "scatterpolar": [
           {
            "marker": {
             "colorbar": {
              "outlinewidth": 0,
              "ticks": ""
             }
            },
            "type": "scatterpolar"
           }
          ],
          "scatterpolargl": [
           {
            "marker": {
             "colorbar": {
              "outlinewidth": 0,
              "ticks": ""
             }
            },
            "type": "scatterpolargl"
           }
          ],
          "scatterternary": [
           {
            "marker": {
             "colorbar": {
              "outlinewidth": 0,
              "ticks": ""
             }
            },
            "type": "scatterternary"
           }
          ],
          "surface": [
           {
            "colorbar": {
             "outlinewidth": 0,
             "ticks": ""
            },
            "colorscale": [
             [
              0,
              "#0d0887"
             ],
             [
              0.1111111111111111,
              "#46039f"
             ],
             [
              0.2222222222222222,
              "#7201a8"
             ],
             [
              0.3333333333333333,
              "#9c179e"
             ],
             [
              0.4444444444444444,
              "#bd3786"
             ],
             [
              0.5555555555555556,
              "#d8576b"
             ],
             [
              0.6666666666666666,
              "#ed7953"
             ],
             [
              0.7777777777777778,
              "#fb9f3a"
             ],
             [
              0.8888888888888888,
              "#fdca26"
             ],
             [
              1,
              "#f0f921"
             ]
            ],
            "type": "surface"
           }
          ],
          "table": [
           {
            "cells": {
             "fill": {
              "color": "#EBF0F8"
             },
             "line": {
              "color": "white"
             }
            },
            "header": {
             "fill": {
              "color": "#C8D4E3"
             },
             "line": {
              "color": "white"
             }
            },
            "type": "table"
           }
          ]
         },
         "layout": {
          "annotationdefaults": {
           "arrowcolor": "#2a3f5f",
           "arrowhead": 0,
           "arrowwidth": 1
          },
          "autotypenumbers": "strict",
          "coloraxis": {
           "colorbar": {
            "outlinewidth": 0,
            "ticks": ""
           }
          },
          "colorscale": {
           "diverging": [
            [
             0,
             "#8e0152"
            ],
            [
             0.1,
             "#c51b7d"
            ],
            [
             0.2,
             "#de77ae"
            ],
            [
             0.3,
             "#f1b6da"
            ],
            [
             0.4,
             "#fde0ef"
            ],
            [
             0.5,
             "#f7f7f7"
            ],
            [
             0.6,
             "#e6f5d0"
            ],
            [
             0.7,
             "#b8e186"
            ],
            [
             0.8,
             "#7fbc41"
            ],
            [
             0.9,
             "#4d9221"
            ],
            [
             1,
             "#276419"
            ]
           ],
           "sequential": [
            [
             0,
             "#0d0887"
            ],
            [
             0.1111111111111111,
             "#46039f"
            ],
            [
             0.2222222222222222,
             "#7201a8"
            ],
            [
             0.3333333333333333,
             "#9c179e"
            ],
            [
             0.4444444444444444,
             "#bd3786"
            ],
            [
             0.5555555555555556,
             "#d8576b"
            ],
            [
             0.6666666666666666,
             "#ed7953"
            ],
            [
             0.7777777777777778,
             "#fb9f3a"
            ],
            [
             0.8888888888888888,
             "#fdca26"
            ],
            [
             1,
             "#f0f921"
            ]
           ],
           "sequentialminus": [
            [
             0,
             "#0d0887"
            ],
            [
             0.1111111111111111,
             "#46039f"
            ],
            [
             0.2222222222222222,
             "#7201a8"
            ],
            [
             0.3333333333333333,
             "#9c179e"
            ],
            [
             0.4444444444444444,
             "#bd3786"
            ],
            [
             0.5555555555555556,
             "#d8576b"
            ],
            [
             0.6666666666666666,
             "#ed7953"
            ],
            [
             0.7777777777777778,
             "#fb9f3a"
            ],
            [
             0.8888888888888888,
             "#fdca26"
            ],
            [
             1,
             "#f0f921"
            ]
           ]
          },
          "colorway": [
           "#636efa",
           "#EF553B",
           "#00cc96",
           "#ab63fa",
           "#FFA15A",
           "#19d3f3",
           "#FF6692",
           "#B6E880",
           "#FF97FF",
           "#FECB52"
          ],
          "font": {
           "color": "#2a3f5f"
          },
          "geo": {
           "bgcolor": "white",
           "lakecolor": "white",
           "landcolor": "#E5ECF6",
           "showlakes": true,
           "showland": true,
           "subunitcolor": "white"
          },
          "hoverlabel": {
           "align": "left"
          },
          "hovermode": "closest",
          "mapbox": {
           "style": "light"
          },
          "paper_bgcolor": "white",
          "plot_bgcolor": "#E5ECF6",
          "polar": {
           "angularaxis": {
            "gridcolor": "white",
            "linecolor": "white",
            "ticks": ""
           },
           "bgcolor": "#E5ECF6",
           "radialaxis": {
            "gridcolor": "white",
            "linecolor": "white",
            "ticks": ""
           }
          },
          "scene": {
           "xaxis": {
            "backgroundcolor": "#E5ECF6",
            "gridcolor": "white",
            "gridwidth": 2,
            "linecolor": "white",
            "showbackground": true,
            "ticks": "",
            "zerolinecolor": "white"
           },
           "yaxis": {
            "backgroundcolor": "#E5ECF6",
            "gridcolor": "white",
            "gridwidth": 2,
            "linecolor": "white",
            "showbackground": true,
            "ticks": "",
            "zerolinecolor": "white"
           },
           "zaxis": {
            "backgroundcolor": "#E5ECF6",
            "gridcolor": "white",
            "gridwidth": 2,
            "linecolor": "white",
            "showbackground": true,
            "ticks": "",
            "zerolinecolor": "white"
           }
          },
          "shapedefaults": {
           "line": {
            "color": "#2a3f5f"
           }
          },
          "ternary": {
           "aaxis": {
            "gridcolor": "white",
            "linecolor": "white",
            "ticks": ""
           },
           "baxis": {
            "gridcolor": "white",
            "linecolor": "white",
            "ticks": ""
           },
           "bgcolor": "#E5ECF6",
           "caxis": {
            "gridcolor": "white",
            "linecolor": "white",
            "ticks": ""
           }
          },
          "title": {
           "x": 0.05
          },
          "xaxis": {
           "automargin": true,
           "gridcolor": "white",
           "linecolor": "white",
           "ticks": "",
           "title": {
            "standoff": 15
           },
           "zerolinecolor": "white",
           "zerolinewidth": 2
          },
          "yaxis": {
           "automargin": true,
           "gridcolor": "white",
           "linecolor": "white",
           "ticks": "",
           "title": {
            "standoff": 15
           },
           "zerolinecolor": "white",
           "zerolinewidth": 2
          }
         }
        },
        "title": {
         "text": "Multi-stage Sankey Diagram"
        },
        "width": 600
       }
      }
     },
     "metadata": {},
     "output_type": "display_data"
    }
   ],
   "source": [
    "'''根据日期生成的数据，需要调整'''\n",
    "\n",
    "import plotly.graph_objects as go\n",
    "from matplotlib.colors import to_rgba\n",
    "import pandas as pd\n",
    "import numpy as np\n",
    "\n",
    "# 假设我们有以下数据\n",
    "dates = ['2024.05.01', '2024.04.28', '2024.04.20']\n",
    "institutions = ['A1', 'A2', 'A3', 'B1', 'B2', 'B3', 'C1', 'C2']\n",
    "\n",
    "# 创建随机数据\n",
    "np.random.seed(0) # 设置随机种子，确保每次运行结果一致\n",
    "data = []\n",
    "for date in dates:\n",
    "    for inst in institutions:\n",
    "        if date == '2024.05.01':\n",
    "            data.append({'date': date, 'institution': inst, 'buyer_volume': np.random.randint(50, 100), 'seller_volume': 0})\n",
    "        elif date == '2024.04.20':\n",
    "            data.append({'date': date, 'institution': inst, 'buyer_volume': 0, 'seller_volume': np.random.randint(50, 100)})\n",
    "        else:\n",
    "            data.append({'date': date, 'institution': inst, 'buyer_volume': np.random.randint(0, 50), 'seller_volume': np.random.randint(0, 50)})\n",
    "\n",
    "df = pd.DataFrame(data)\n",
    "print(df.head())\n",
    "\n",
    "# 创建 Sankey 图数据\n",
    "node_labels = []\n",
    "node_colors = []\n",
    "link_source = []\n",
    "link_target = []\n",
    "link_value = []\n",
    "link_color = []\n",
    "\n",
    "color_map = {'A': 'red', 'B': 'green', 'C': 'blue'}\n",
    "def add_alpha_2_color(color, alpha):\n",
    "    print(color)\n",
    "    rgba = to_rgba(color)\n",
    "    return f\"rgba({int(rgba[0]*255)}, {int(rgba[1]*255)}, {int(rgba[2]*255)}, {alpha})\"\n",
    "\n",
    "for i, date in enumerate(dates):\n",
    "    offset = i * len(institutions)\n",
    "    \n",
    "    # 添加节点\n",
    "    node_labels.extend([f\"{inst}\" for inst in institutions])\n",
    "    node_colors.extend([color_map[inst[0]] for inst in institutions])\n",
    "    \n",
    "    date_data = df[df['date'] == date]\n",
    "    \n",
    "    # 添加买方链接\n",
    "    if i < len(dates) - 1:  # 不是最后一个日期\n",
    "        for j, inst in enumerate(institutions):\n",
    "            volume = date_data[date_data['institution'] == inst]['buyer_volume'].values[0]\n",
    "            if volume > 0:\n",
    "                link_source.append(offset + j)\n",
    "                link_target.append(offset + len(institutions) + j)\n",
    "                link_value.append(volume)\n",
    "                link_color.append(add_alpha_2_color(color_map[inst[0]], 0.1))\n",
    "    \n",
    "    # 添加卖方链接\n",
    "    if i > 0:  # 不是第一个日期\n",
    "        for j, inst in enumerate(institutions):\n",
    "            volume = date_data[date_data['institution'] == inst]['seller_volume'].values[0]\n",
    "            if volume > 0:\n",
    "                link_source.append(offset + j - len(institutions))\n",
    "                link_target.append(offset + j)\n",
    "                link_value.append(volume)\n",
    "                link_color.append(color_map[inst[0]])\n",
    "\n",
    "# 创建 Sankey 图\n",
    "fig = go.Figure(data=[go.Sankey(\n",
    "    node = dict(\n",
    "      pad = 15,\n",
    "      thickness = 20,\n",
    "      line = dict(color = \"black\", width = 0.5),\n",
    "      label = node_labels,\n",
    "      color = node_colors\n",
    "    ),\n",
    "    link = dict(\n",
    "      source = link_source,\n",
    "      target = link_target,\n",
    "      value = link_value,\n",
    "      color = link_color\n",
    "  ))])\n",
    "\n",
    "# 更新布局\n",
    "fig.update_layout(\n",
    "    title_text=\"Multi-stage Sankey Diagram\",\n",
    "    font_size=10,\n",
    "    autosize=False,\n",
    "    width=600,\n",
    "    height=400\n",
    ")\n",
    "\n",
    "# 添加日期标签\n",
    "for i, date in enumerate(dates):\n",
    "    fig.add_annotation(\n",
    "        x=i/2, y=1.05,\n",
    "        xref=\"paper\", yref=\"paper\",\n",
    "        text=date,\n",
    "        showarrow=False,\n",
    "        font=dict(size=14)\n",
    "    )\n",
    "\n",
    "# 添加买方和卖方标签\n",
    "fig.add_annotation(x=-0.05, y=0.5, text=\"buyer\", showarrow=False, textangle=-90, xref=\"paper\", yref=\"paper\")\n",
    "fig.add_annotation(x=1.05, y=0.5, text=\"seller\", showarrow=False, textangle=90, xref=\"paper\", yref=\"paper\")\n",
    "\n",
    "fig.show()"
   ]
  },
  {
   "cell_type": "markdown",
   "metadata": {},
   "source": [
    "##### 根据交易自动生成"
   ]
  },
  {
   "cell_type": "code",
   "execution_count": 49,
   "metadata": {},
   "outputs": [
    {
     "data": {
      "application/vnd.plotly.v1+json": {
       "config": {
        "plotlyServerURL": "https://plot.ly"
       },
       "data": [
        {
         "link": {
          "color": [
           "rgb(31,13,71)",
           "rgb(118,44,216)",
           "rgb(182,207,11)",
           "rgb(184,152,79)",
           "rgb(125,24,67)",
           "rgb(249,129,223)"
          ],
          "source": [
           1,
           3,
           5,
           7,
           4,
           6
          ],
          "target": [
           0,
           2,
           4,
           6,
           1,
           3
          ],
          "value": [
           100,
           150,
           80,
           120,
           90,
           110
          ]
         },
         "node": {
          "color": [
           "rgb(166,111,93)",
           "rgb(31,13,71)",
           "rgb(41,18,40)",
           "rgb(118,44,216)",
           "rgb(125,24,67)",
           "rgb(182,207,11)",
           "rgb(249,129,223)",
           "rgb(184,152,79)"
          ],
          "label": [
           "B2 (2024.05.01)",
           "A1 (2024.04.20)",
           "A3 (2024.05.01)",
           "C1 (2024.04.20)",
           "C2 (2024.04.28)",
           "B1 (2024.05.02)",
           "B3 (2024.04.28)",
           "A2 (2024.05.02)"
          ],
          "line": {
           "color": "black",
           "width": 0.5
          },
          "pad": 10,
          "thickness": 5,
          "x": [
           0.25,
           0.75,
           0.25,
           0.75,
           0.5,
           0,
           0.5,
           0
          ],
          "y": [
           0.5714285714285714,
           0,
           0.2857142857142857,
           0.8571428571428571,
           1,
           0.42857142857142855,
           0.7142857142857143,
           0.14285714285714285
          ]
         },
         "type": "sankey"
        }
       ],
       "layout": {
        "annotations": [
         {
          "font": {
           "size": 14
          },
          "showarrow": false,
          "text": "2024.05.02",
          "x": 0,
          "xref": "paper",
          "y": 1.05,
          "yref": "paper"
         },
         {
          "font": {
           "size": 14
          },
          "showarrow": false,
          "text": "2024.05.01",
          "x": 0.25,
          "xref": "paper",
          "y": 1.05,
          "yref": "paper"
         },
         {
          "font": {
           "size": 14
          },
          "showarrow": false,
          "text": "2024.04.28",
          "x": 0.5,
          "xref": "paper",
          "y": 1.05,
          "yref": "paper"
         },
         {
          "font": {
           "size": 14
          },
          "showarrow": false,
          "text": "2024.04.20",
          "x": 0.75,
          "xref": "paper",
          "y": 1.05,
          "yref": "paper"
         }
        ],
        "autosize": false,
        "font": {
         "size": 10
        },
        "height": 400,
        "margin": {
         "b": 50,
         "l": 50,
         "r": 50,
         "t": 50
        },
        "template": {
         "data": {
          "bar": [
           {
            "error_x": {
             "color": "#2a3f5f"
            },
            "error_y": {
             "color": "#2a3f5f"
            },
            "marker": {
             "line": {
              "color": "#E5ECF6",
              "width": 0.5
             },
             "pattern": {
              "fillmode": "overlay",
              "size": 10,
              "solidity": 0.2
             }
            },
            "type": "bar"
           }
          ],
          "barpolar": [
           {
            "marker": {
             "line": {
              "color": "#E5ECF6",
              "width": 0.5
             },
             "pattern": {
              "fillmode": "overlay",
              "size": 10,
              "solidity": 0.2
             }
            },
            "type": "barpolar"
           }
          ],
          "carpet": [
           {
            "aaxis": {
             "endlinecolor": "#2a3f5f",
             "gridcolor": "white",
             "linecolor": "white",
             "minorgridcolor": "white",
             "startlinecolor": "#2a3f5f"
            },
            "baxis": {
             "endlinecolor": "#2a3f5f",
             "gridcolor": "white",
             "linecolor": "white",
             "minorgridcolor": "white",
             "startlinecolor": "#2a3f5f"
            },
            "type": "carpet"
           }
          ],
          "choropleth": [
           {
            "colorbar": {
             "outlinewidth": 0,
             "ticks": ""
            },
            "type": "choropleth"
           }
          ],
          "contour": [
           {
            "colorbar": {
             "outlinewidth": 0,
             "ticks": ""
            },
            "colorscale": [
             [
              0,
              "#0d0887"
             ],
             [
              0.1111111111111111,
              "#46039f"
             ],
             [
              0.2222222222222222,
              "#7201a8"
             ],
             [
              0.3333333333333333,
              "#9c179e"
             ],
             [
              0.4444444444444444,
              "#bd3786"
             ],
             [
              0.5555555555555556,
              "#d8576b"
             ],
             [
              0.6666666666666666,
              "#ed7953"
             ],
             [
              0.7777777777777778,
              "#fb9f3a"
             ],
             [
              0.8888888888888888,
              "#fdca26"
             ],
             [
              1,
              "#f0f921"
             ]
            ],
            "type": "contour"
           }
          ],
          "contourcarpet": [
           {
            "colorbar": {
             "outlinewidth": 0,
             "ticks": ""
            },
            "type": "contourcarpet"
           }
          ],
          "heatmap": [
           {
            "colorbar": {
             "outlinewidth": 0,
             "ticks": ""
            },
            "colorscale": [
             [
              0,
              "#0d0887"
             ],
             [
              0.1111111111111111,
              "#46039f"
             ],
             [
              0.2222222222222222,
              "#7201a8"
             ],
             [
              0.3333333333333333,
              "#9c179e"
             ],
             [
              0.4444444444444444,
              "#bd3786"
             ],
             [
              0.5555555555555556,
              "#d8576b"
             ],
             [
              0.6666666666666666,
              "#ed7953"
             ],
             [
              0.7777777777777778,
              "#fb9f3a"
             ],
             [
              0.8888888888888888,
              "#fdca26"
             ],
             [
              1,
              "#f0f921"
             ]
            ],
            "type": "heatmap"
           }
          ],
          "heatmapgl": [
           {
            "colorbar": {
             "outlinewidth": 0,
             "ticks": ""
            },
            "colorscale": [
             [
              0,
              "#0d0887"
             ],
             [
              0.1111111111111111,
              "#46039f"
             ],
             [
              0.2222222222222222,
              "#7201a8"
             ],
             [
              0.3333333333333333,
              "#9c179e"
             ],
             [
              0.4444444444444444,
              "#bd3786"
             ],
             [
              0.5555555555555556,
              "#d8576b"
             ],
             [
              0.6666666666666666,
              "#ed7953"
             ],
             [
              0.7777777777777778,
              "#fb9f3a"
             ],
             [
              0.8888888888888888,
              "#fdca26"
             ],
             [
              1,
              "#f0f921"
             ]
            ],
            "type": "heatmapgl"
           }
          ],
          "histogram": [
           {
            "marker": {
             "pattern": {
              "fillmode": "overlay",
              "size": 10,
              "solidity": 0.2
             }
            },
            "type": "histogram"
           }
          ],
          "histogram2d": [
           {
            "colorbar": {
             "outlinewidth": 0,
             "ticks": ""
            },
            "colorscale": [
             [
              0,
              "#0d0887"
             ],
             [
              0.1111111111111111,
              "#46039f"
             ],
             [
              0.2222222222222222,
              "#7201a8"
             ],
             [
              0.3333333333333333,
              "#9c179e"
             ],
             [
              0.4444444444444444,
              "#bd3786"
             ],
             [
              0.5555555555555556,
              "#d8576b"
             ],
             [
              0.6666666666666666,
              "#ed7953"
             ],
             [
              0.7777777777777778,
              "#fb9f3a"
             ],
             [
              0.8888888888888888,
              "#fdca26"
             ],
             [
              1,
              "#f0f921"
             ]
            ],
            "type": "histogram2d"
           }
          ],
          "histogram2dcontour": [
           {
            "colorbar": {
             "outlinewidth": 0,
             "ticks": ""
            },
            "colorscale": [
             [
              0,
              "#0d0887"
             ],
             [
              0.1111111111111111,
              "#46039f"
             ],
             [
              0.2222222222222222,
              "#7201a8"
             ],
             [
              0.3333333333333333,
              "#9c179e"
             ],
             [
              0.4444444444444444,
              "#bd3786"
             ],
             [
              0.5555555555555556,
              "#d8576b"
             ],
             [
              0.6666666666666666,
              "#ed7953"
             ],
             [
              0.7777777777777778,
              "#fb9f3a"
             ],
             [
              0.8888888888888888,
              "#fdca26"
             ],
             [
              1,
              "#f0f921"
             ]
            ],
            "type": "histogram2dcontour"
           }
          ],
          "mesh3d": [
           {
            "colorbar": {
             "outlinewidth": 0,
             "ticks": ""
            },
            "type": "mesh3d"
           }
          ],
          "parcoords": [
           {
            "line": {
             "colorbar": {
              "outlinewidth": 0,
              "ticks": ""
             }
            },
            "type": "parcoords"
           }
          ],
          "pie": [
           {
            "automargin": true,
            "type": "pie"
           }
          ],
          "scatter": [
           {
            "fillpattern": {
             "fillmode": "overlay",
             "size": 10,
             "solidity": 0.2
            },
            "type": "scatter"
           }
          ],
          "scatter3d": [
           {
            "line": {
             "colorbar": {
              "outlinewidth": 0,
              "ticks": ""
             }
            },
            "marker": {
             "colorbar": {
              "outlinewidth": 0,
              "ticks": ""
             }
            },
            "type": "scatter3d"
           }
          ],
          "scattercarpet": [
           {
            "marker": {
             "colorbar": {
              "outlinewidth": 0,
              "ticks": ""
             }
            },
            "type": "scattercarpet"
           }
          ],
          "scattergeo": [
           {
            "marker": {
             "colorbar": {
              "outlinewidth": 0,
              "ticks": ""
             }
            },
            "type": "scattergeo"
           }
          ],
          "scattergl": [
           {
            "marker": {
             "colorbar": {
              "outlinewidth": 0,
              "ticks": ""
             }
            },
            "type": "scattergl"
           }
          ],
          "scattermapbox": [
           {
            "marker": {
             "colorbar": {
              "outlinewidth": 0,
              "ticks": ""
             }
            },
            "type": "scattermapbox"
           }
          ],
          "scatterpolar": [
           {
            "marker": {
             "colorbar": {
              "outlinewidth": 0,
              "ticks": ""
             }
            },
            "type": "scatterpolar"
           }
          ],
          "scatterpolargl": [
           {
            "marker": {
             "colorbar": {
              "outlinewidth": 0,
              "ticks": ""
             }
            },
            "type": "scatterpolargl"
           }
          ],
          "scatterternary": [
           {
            "marker": {
             "colorbar": {
              "outlinewidth": 0,
              "ticks": ""
             }
            },
            "type": "scatterternary"
           }
          ],
          "surface": [
           {
            "colorbar": {
             "outlinewidth": 0,
             "ticks": ""
            },
            "colorscale": [
             [
              0,
              "#0d0887"
             ],
             [
              0.1111111111111111,
              "#46039f"
             ],
             [
              0.2222222222222222,
              "#7201a8"
             ],
             [
              0.3333333333333333,
              "#9c179e"
             ],
             [
              0.4444444444444444,
              "#bd3786"
             ],
             [
              0.5555555555555556,
              "#d8576b"
             ],
             [
              0.6666666666666666,
              "#ed7953"
             ],
             [
              0.7777777777777778,
              "#fb9f3a"
             ],
             [
              0.8888888888888888,
              "#fdca26"
             ],
             [
              1,
              "#f0f921"
             ]
            ],
            "type": "surface"
           }
          ],
          "table": [
           {
            "cells": {
             "fill": {
              "color": "#EBF0F8"
             },
             "line": {
              "color": "white"
             }
            },
            "header": {
             "fill": {
              "color": "#C8D4E3"
             },
             "line": {
              "color": "white"
             }
            },
            "type": "table"
           }
          ]
         },
         "layout": {
          "annotationdefaults": {
           "arrowcolor": "#2a3f5f",
           "arrowhead": 0,
           "arrowwidth": 1
          },
          "autotypenumbers": "strict",
          "coloraxis": {
           "colorbar": {
            "outlinewidth": 0,
            "ticks": ""
           }
          },
          "colorscale": {
           "diverging": [
            [
             0,
             "#8e0152"
            ],
            [
             0.1,
             "#c51b7d"
            ],
            [
             0.2,
             "#de77ae"
            ],
            [
             0.3,
             "#f1b6da"
            ],
            [
             0.4,
             "#fde0ef"
            ],
            [
             0.5,
             "#f7f7f7"
            ],
            [
             0.6,
             "#e6f5d0"
            ],
            [
             0.7,
             "#b8e186"
            ],
            [
             0.8,
             "#7fbc41"
            ],
            [
             0.9,
             "#4d9221"
            ],
            [
             1,
             "#276419"
            ]
           ],
           "sequential": [
            [
             0,
             "#0d0887"
            ],
            [
             0.1111111111111111,
             "#46039f"
            ],
            [
             0.2222222222222222,
             "#7201a8"
            ],
            [
             0.3333333333333333,
             "#9c179e"
            ],
            [
             0.4444444444444444,
             "#bd3786"
            ],
            [
             0.5555555555555556,
             "#d8576b"
            ],
            [
             0.6666666666666666,
             "#ed7953"
            ],
            [
             0.7777777777777778,
             "#fb9f3a"
            ],
            [
             0.8888888888888888,
             "#fdca26"
            ],
            [
             1,
             "#f0f921"
            ]
           ],
           "sequentialminus": [
            [
             0,
             "#0d0887"
            ],
            [
             0.1111111111111111,
             "#46039f"
            ],
            [
             0.2222222222222222,
             "#7201a8"
            ],
            [
             0.3333333333333333,
             "#9c179e"
            ],
            [
             0.4444444444444444,
             "#bd3786"
            ],
            [
             0.5555555555555556,
             "#d8576b"
            ],
            [
             0.6666666666666666,
             "#ed7953"
            ],
            [
             0.7777777777777778,
             "#fb9f3a"
            ],
            [
             0.8888888888888888,
             "#fdca26"
            ],
            [
             1,
             "#f0f921"
            ]
           ]
          },
          "colorway": [
           "#636efa",
           "#EF553B",
           "#00cc96",
           "#ab63fa",
           "#FFA15A",
           "#19d3f3",
           "#FF6692",
           "#B6E880",
           "#FF97FF",
           "#FECB52"
          ],
          "font": {
           "color": "#2a3f5f"
          },
          "geo": {
           "bgcolor": "white",
           "lakecolor": "white",
           "landcolor": "#E5ECF6",
           "showlakes": true,
           "showland": true,
           "subunitcolor": "white"
          },
          "hoverlabel": {
           "align": "left"
          },
          "hovermode": "closest",
          "mapbox": {
           "style": "light"
          },
          "paper_bgcolor": "white",
          "plot_bgcolor": "#E5ECF6",
          "polar": {
           "angularaxis": {
            "gridcolor": "white",
            "linecolor": "white",
            "ticks": ""
           },
           "bgcolor": "#E5ECF6",
           "radialaxis": {
            "gridcolor": "white",
            "linecolor": "white",
            "ticks": ""
           }
          },
          "scene": {
           "xaxis": {
            "backgroundcolor": "#E5ECF6",
            "gridcolor": "white",
            "gridwidth": 2,
            "linecolor": "white",
            "showbackground": true,
            "ticks": "",
            "zerolinecolor": "white"
           },
           "yaxis": {
            "backgroundcolor": "#E5ECF6",
            "gridcolor": "white",
            "gridwidth": 2,
            "linecolor": "white",
            "showbackground": true,
            "ticks": "",
            "zerolinecolor": "white"
           },
           "zaxis": {
            "backgroundcolor": "#E5ECF6",
            "gridcolor": "white",
            "gridwidth": 2,
            "linecolor": "white",
            "showbackground": true,
            "ticks": "",
            "zerolinecolor": "white"
           }
          },
          "shapedefaults": {
           "line": {
            "color": "#2a3f5f"
           }
          },
          "ternary": {
           "aaxis": {
            "gridcolor": "white",
            "linecolor": "white",
            "ticks": ""
           },
           "baxis": {
            "gridcolor": "white",
            "linecolor": "white",
            "ticks": ""
           },
           "bgcolor": "#E5ECF6",
           "caxis": {
            "gridcolor": "white",
            "linecolor": "white",
            "ticks": ""
           }
          },
          "title": {
           "x": 0.05
          },
          "xaxis": {
           "automargin": true,
           "gridcolor": "white",
           "linecolor": "white",
           "ticks": "",
           "title": {
            "standoff": 15
           },
           "zerolinecolor": "white",
           "zerolinewidth": 2
          },
          "yaxis": {
           "automargin": true,
           "gridcolor": "white",
           "linecolor": "white",
           "ticks": "",
           "title": {
            "standoff": 15
           },
           "zerolinecolor": "white",
           "zerolinewidth": 2
          }
         }
        },
        "title": {
         "text": "Multi-stage Sankey Diagram"
        },
        "width": 700
       }
      }
     },
     "metadata": {},
     "output_type": "display_data"
    }
   ],
   "source": [
    "'''多加了一个最近日期，保证link的流动能符合卖方x为交易时间，买方x为下次卖出时间/最近日期'''\n",
    "\n",
    "import plotly.graph_objects as go\n",
    "import pandas as pd\n",
    "import numpy as np\n",
    "from datetime import datetime, timedelta\n",
    "from collections import defaultdict\n",
    "# 假设我们有以下交易数据\n",
    "transactions = [\n",
    "    {'date': '2024.05.01', 'buyer': 'A1', 'seller': 'B2', 'volume': 100},\n",
    "    {'date': '2024.05.01', 'buyer': 'C1', 'seller': 'A3', 'volume': 150},\n",
    "    {'date': '2024.04.28', 'buyer': 'B1', 'seller': 'C2', 'volume': 80},\n",
    "    {'date': '2024.04.28', 'buyer': 'A2', 'seller': 'B3', 'volume': 120},\n",
    "    {'date': '2024.04.20', 'buyer': 'C2', 'seller': 'A1', 'volume': 90},\n",
    "    {'date': '2024.04.20', 'buyer': 'B3', 'seller': 'C1', 'volume': 110},\n",
    "]\n",
    "\n",
    "df = pd.DataFrame(transactions)\n",
    "dates = sorted(df['date'].unique(), reverse=True)\n",
    "\n",
    "# 添加一个新的日期，为最大日期的后一天\n",
    "max_date = datetime.strptime(max(dates), '%Y.%m.%d')\n",
    "new_max_date = (max_date + timedelta(days=1)).strftime('%Y.%m.%d')\n",
    "dates = [new_max_date] + dates\n",
    "\n",
    "# 提取所有唯一的机构\n",
    "all_institutions = sorted(set(df['buyer'].unique()) | set(df['seller'].unique()))\n",
    "\n",
    "# 为每个机构分配颜色\n",
    "color_map = {inst: f'rgb({np.random.randint(0,256)},{np.random.randint(0,256)},{np.random.randint(0,256)})' \n",
    "             for inst in all_institutions}\n",
    "\n",
    "# 创建节点和链接\n",
    "nodes = []\n",
    "links = []\n",
    "node_indices = {} # node_index 和 node_label 的映射\n",
    "\n",
    "# 找出每个机构的下一次卖出日期\n",
    "next_sell_date = defaultdict(lambda: new_max_date)\n",
    "for date in reversed(dates[1:]):  # 跳过新添加的日期\n",
    "    date_df = df[df['date'] == date]\n",
    "    for _, row in date_df.iterrows():\n",
    "        next_sell_date[row['seller']] = date\n",
    "\n",
    "# 为每个交易创建节点\n",
    "for i, date in enumerate(dates[1:], 1):  # 跳过新添加的日期\n",
    "    date_df = df[df['date'] == date]\n",
    "    for _, row in date_df.iterrows():\n",
    "        # 卖方节点\n",
    "        if (date, row['seller']) not in node_indices:\n",
    "            node_indices[(date, row['seller'])] = len(nodes)\n",
    "            new_node = dict(\n",
    "                label=f\"{row['seller']} ({date})\",\n",
    "                color=color_map[row['seller']],\n",
    "                x=i / len(dates),\n",
    "                institution=row['seller']\n",
    "            )\n",
    "            nodes.append(new_node)\n",
    "        \n",
    "        # 买方节点\n",
    "        buyer_date = next_sell_date[row['buyer']]\n",
    "        if (buyer_date, row['buyer']) not in node_indices:\n",
    "            node_indices[(buyer_date, row['buyer'])] = len(nodes)\n",
    "            new_node = dict(\n",
    "                label=f\"{row['buyer']} ({buyer_date})\",\n",
    "                color=color_map[row['buyer']],\n",
    "                x=dates.index(buyer_date) / len(dates),\n",
    "                institution=row['buyer']\n",
    "            )\n",
    "            nodes.append(new_node)\n",
    "\n",
    "        # 添加链接\n",
    "        source_index = node_indices[(buyer_date, row['buyer'])]\n",
    "        target_index = node_indices[(date, row['seller'])]\n",
    "        links.append(dict(\n",
    "            source=source_index,\n",
    "            target=target_index,\n",
    "            value=row['volume'],\n",
    "            color=color_map[row['buyer']]\n",
    "        ))\n",
    "\n",
    "# 全局计算y坐标\n",
    "institution_positions = {inst: i for i, inst in enumerate(all_institutions)}\n",
    "for node in nodes:\n",
    "    node['y'] = institution_positions[node['institution']] / (len(all_institutions) - 1)\n",
    "\n",
    "# 创建 Sankey 图\n",
    "fig = go.Figure(data=[go.Sankey(\n",
    "    node = dict(\n",
    "      pad = 10,\n",
    "      thickness = 5,\n",
    "      line = dict(color = \"black\", width = 0.5),\n",
    "      label = [node['label'] for node in nodes],\n",
    "      color = [node['color'] for node in nodes],\n",
    "      x = [node['x'] for node in nodes],\n",
    "      y = [node['y'] for node in nodes]\n",
    "    ),\n",
    "    link = dict(\n",
    "      source = [link['source'] for link in links],\n",
    "      target = [link['target'] for link in links],\n",
    "      value = [link['value'] for link in links],\n",
    "      color = [link['color'] for link in links]\n",
    "  ))])\n",
    "# print(fig)\n",
    "\n",
    "# 更新布局\n",
    "fig.update_layout(\n",
    "    title_text=\"Multi-stage Sankey Diagram\",\n",
    "    font_size=10,\n",
    "    autosize=False,\n",
    "    width=700,\n",
    "    height=400,\n",
    "    margin=dict(t=50, l=50, r=50, b=50)\n",
    ")\n",
    "\n",
    "# 添加日期标签\n",
    "for i, date in enumerate(dates):\n",
    "    fig.add_annotation(\n",
    "        x=i/(len(dates)), y=1.05,\n",
    "        xref=\"paper\", yref=\"paper\",\n",
    "        text=date,\n",
    "        showarrow=False,\n",
    "        font=dict(size=14)\n",
    "    )\n",
    "\n",
    "fig.show()"
   ]
  },
  {
   "cell_type": "code",
   "execution_count": 44,
   "metadata": {},
   "outputs": [
    {
     "data": {
      "application/vnd.plotly.v1+json": {
       "config": {
        "plotlyServerURL": "https://plot.ly"
       },
       "data": [
        {
         "link": {
          "color": [
           "rgb(113,178,36)",
           "rgb(43,186,127)",
           "rgb(205,112,231)",
           "rgb(162,48,93)",
           "rgb(23,187,130)",
           "rgb(0,138,114)"
          ],
          "source": [
           8,
           14,
           19,
           17,
           31,
           29
          ],
          "target": [
           12,
           10,
           23,
           21,
           24,
           30
          ],
          "value": [
           100,
           150,
           80,
           120,
           90,
           110
          ]
         },
         "node": {
          "color": [
           "rgb(113,178,36)",
           "rgb(162,48,93)",
           "rgb(131,98,42)",
           "rgb(205,112,231)",
           "rgb(149,201,127)",
           "rgb(0,138,114)",
           "rgb(43,186,127)",
           "rgb(23,187,130)",
           "rgb(113,178,36)",
           "rgb(162,48,93)",
           "rgb(131,98,42)",
           "rgb(205,112,231)",
           "rgb(149,201,127)",
           "rgb(0,138,114)",
           "rgb(43,186,127)",
           "rgb(23,187,130)",
           "rgb(113,178,36)",
           "rgb(162,48,93)",
           "rgb(131,98,42)",
           "rgb(205,112,231)",
           "rgb(149,201,127)",
           "rgb(0,138,114)",
           "rgb(43,186,127)",
           "rgb(23,187,130)",
           "rgb(113,178,36)",
           "rgb(162,48,93)",
           "rgb(131,98,42)",
           "rgb(205,112,231)",
           "rgb(149,201,127)",
           "rgb(0,138,114)",
           "rgb(43,186,127)",
           "rgb(23,187,130)"
          ],
          "label": [
           "A1 (2024.05.02)",
           "A2 (2024.05.02)",
           "A3 (2024.05.02)",
           "B1 (2024.05.02)",
           "B2 (2024.05.02)",
           "B3 (2024.05.02)",
           "C1 (2024.05.02)",
           "C2 (2024.05.02)",
           "A1 (2024.05.01)",
           "A2 (2024.05.01)",
           "A3 (2024.05.01)",
           "B1 (2024.05.01)",
           "B2 (2024.05.01)",
           "B3 (2024.05.01)",
           "C1 (2024.05.01)",
           "C2 (2024.05.01)",
           "A1 (2024.04.28)",
           "A2 (2024.04.28)",
           "A3 (2024.04.28)",
           "B1 (2024.04.28)",
           "B2 (2024.04.28)",
           "B3 (2024.04.28)",
           "C1 (2024.04.28)",
           "C2 (2024.04.28)",
           "A1 (2024.04.20)",
           "A2 (2024.04.20)",
           "A3 (2024.04.20)",
           "B1 (2024.04.20)",
           "B2 (2024.04.20)",
           "B3 (2024.04.20)",
           "C1 (2024.04.20)",
           "C2 (2024.04.20)"
          ],
          "line": {
           "color": "black",
           "width": 0.5
          },
          "pad": 15,
          "thickness": 20,
          "x": [
           0,
           0,
           0,
           0,
           0,
           0,
           0,
           0,
           0.25,
           0.25,
           0.25,
           0.25,
           0.25,
           0.25,
           0.25,
           0.25,
           0.5,
           0.5,
           0.5,
           0.5,
           0.5,
           0.5,
           0.5,
           0.5,
           0.75,
           0.75,
           0.75,
           0.75,
           0.75,
           0.75,
           0.75,
           0.75
          ],
          "y": [
           0,
           0.14285714285714285,
           0.2857142857142857,
           0.42857142857142855,
           0.5714285714285714,
           0.7142857142857143,
           0.8571428571428571,
           1,
           0,
           0.14285714285714285,
           0.2857142857142857,
           0.42857142857142855,
           0.5714285714285714,
           0.7142857142857143,
           0.8571428571428571,
           1,
           0,
           0.14285714285714285,
           0.2857142857142857,
           0.42857142857142855,
           0.5714285714285714,
           0.7142857142857143,
           0.8571428571428571,
           1,
           0,
           0.14285714285714285,
           0.2857142857142857,
           0.42857142857142855,
           0.5714285714285714,
           0.7142857142857143,
           0.8571428571428571,
           1
          ]
         },
         "type": "sankey"
        }
       ],
       "layout": {
        "annotations": [
         {
          "font": {
           "size": 14
          },
          "showarrow": false,
          "text": "2024.05.02",
          "x": 0,
          "xref": "paper",
          "y": 1.05,
          "yref": "paper"
         },
         {
          "font": {
           "size": 14
          },
          "showarrow": false,
          "text": "2024.05.01",
          "x": 0.3333333333333333,
          "xref": "paper",
          "y": 1.05,
          "yref": "paper"
         },
         {
          "font": {
           "size": 14
          },
          "showarrow": false,
          "text": "2024.04.28",
          "x": 0.6666666666666666,
          "xref": "paper",
          "y": 1.05,
          "yref": "paper"
         },
         {
          "font": {
           "size": 14
          },
          "showarrow": false,
          "text": "2024.04.20",
          "x": 1,
          "xref": "paper",
          "y": 1.05,
          "yref": "paper"
         }
        ],
        "autosize": false,
        "font": {
         "size": 10
        },
        "height": 400,
        "margin": {
         "b": 50,
         "l": 50,
         "r": 50,
         "t": 50
        },
        "template": {
         "data": {
          "bar": [
           {
            "error_x": {
             "color": "#2a3f5f"
            },
            "error_y": {
             "color": "#2a3f5f"
            },
            "marker": {
             "line": {
              "color": "#E5ECF6",
              "width": 0.5
             },
             "pattern": {
              "fillmode": "overlay",
              "size": 10,
              "solidity": 0.2
             }
            },
            "type": "bar"
           }
          ],
          "barpolar": [
           {
            "marker": {
             "line": {
              "color": "#E5ECF6",
              "width": 0.5
             },
             "pattern": {
              "fillmode": "overlay",
              "size": 10,
              "solidity": 0.2
             }
            },
            "type": "barpolar"
           }
          ],
          "carpet": [
           {
            "aaxis": {
             "endlinecolor": "#2a3f5f",
             "gridcolor": "white",
             "linecolor": "white",
             "minorgridcolor": "white",
             "startlinecolor": "#2a3f5f"
            },
            "baxis": {
             "endlinecolor": "#2a3f5f",
             "gridcolor": "white",
             "linecolor": "white",
             "minorgridcolor": "white",
             "startlinecolor": "#2a3f5f"
            },
            "type": "carpet"
           }
          ],
          "choropleth": [
           {
            "colorbar": {
             "outlinewidth": 0,
             "ticks": ""
            },
            "type": "choropleth"
           }
          ],
          "contour": [
           {
            "colorbar": {
             "outlinewidth": 0,
             "ticks": ""
            },
            "colorscale": [
             [
              0,
              "#0d0887"
             ],
             [
              0.1111111111111111,
              "#46039f"
             ],
             [
              0.2222222222222222,
              "#7201a8"
             ],
             [
              0.3333333333333333,
              "#9c179e"
             ],
             [
              0.4444444444444444,
              "#bd3786"
             ],
             [
              0.5555555555555556,
              "#d8576b"
             ],
             [
              0.6666666666666666,
              "#ed7953"
             ],
             [
              0.7777777777777778,
              "#fb9f3a"
             ],
             [
              0.8888888888888888,
              "#fdca26"
             ],
             [
              1,
              "#f0f921"
             ]
            ],
            "type": "contour"
           }
          ],
          "contourcarpet": [
           {
            "colorbar": {
             "outlinewidth": 0,
             "ticks": ""
            },
            "type": "contourcarpet"
           }
          ],
          "heatmap": [
           {
            "colorbar": {
             "outlinewidth": 0,
             "ticks": ""
            },
            "colorscale": [
             [
              0,
              "#0d0887"
             ],
             [
              0.1111111111111111,
              "#46039f"
             ],
             [
              0.2222222222222222,
              "#7201a8"
             ],
             [
              0.3333333333333333,
              "#9c179e"
             ],
             [
              0.4444444444444444,
              "#bd3786"
             ],
             [
              0.5555555555555556,
              "#d8576b"
             ],
             [
              0.6666666666666666,
              "#ed7953"
             ],
             [
              0.7777777777777778,
              "#fb9f3a"
             ],
             [
              0.8888888888888888,
              "#fdca26"
             ],
             [
              1,
              "#f0f921"
             ]
            ],
            "type": "heatmap"
           }
          ],
          "heatmapgl": [
           {
            "colorbar": {
             "outlinewidth": 0,
             "ticks": ""
            },
            "colorscale": [
             [
              0,
              "#0d0887"
             ],
             [
              0.1111111111111111,
              "#46039f"
             ],
             [
              0.2222222222222222,
              "#7201a8"
             ],
             [
              0.3333333333333333,
              "#9c179e"
             ],
             [
              0.4444444444444444,
              "#bd3786"
             ],
             [
              0.5555555555555556,
              "#d8576b"
             ],
             [
              0.6666666666666666,
              "#ed7953"
             ],
             [
              0.7777777777777778,
              "#fb9f3a"
             ],
             [
              0.8888888888888888,
              "#fdca26"
             ],
             [
              1,
              "#f0f921"
             ]
            ],
            "type": "heatmapgl"
           }
          ],
          "histogram": [
           {
            "marker": {
             "pattern": {
              "fillmode": "overlay",
              "size": 10,
              "solidity": 0.2
             }
            },
            "type": "histogram"
           }
          ],
          "histogram2d": [
           {
            "colorbar": {
             "outlinewidth": 0,
             "ticks": ""
            },
            "colorscale": [
             [
              0,
              "#0d0887"
             ],
             [
              0.1111111111111111,
              "#46039f"
             ],
             [
              0.2222222222222222,
              "#7201a8"
             ],
             [
              0.3333333333333333,
              "#9c179e"
             ],
             [
              0.4444444444444444,
              "#bd3786"
             ],
             [
              0.5555555555555556,
              "#d8576b"
             ],
             [
              0.6666666666666666,
              "#ed7953"
             ],
             [
              0.7777777777777778,
              "#fb9f3a"
             ],
             [
              0.8888888888888888,
              "#fdca26"
             ],
             [
              1,
              "#f0f921"
             ]
            ],
            "type": "histogram2d"
           }
          ],
          "histogram2dcontour": [
           {
            "colorbar": {
             "outlinewidth": 0,
             "ticks": ""
            },
            "colorscale": [
             [
              0,
              "#0d0887"
             ],
             [
              0.1111111111111111,
              "#46039f"
             ],
             [
              0.2222222222222222,
              "#7201a8"
             ],
             [
              0.3333333333333333,
              "#9c179e"
             ],
             [
              0.4444444444444444,
              "#bd3786"
             ],
             [
              0.5555555555555556,
              "#d8576b"
             ],
             [
              0.6666666666666666,
              "#ed7953"
             ],
             [
              0.7777777777777778,
              "#fb9f3a"
             ],
             [
              0.8888888888888888,
              "#fdca26"
             ],
             [
              1,
              "#f0f921"
             ]
            ],
            "type": "histogram2dcontour"
           }
          ],
          "mesh3d": [
           {
            "colorbar": {
             "outlinewidth": 0,
             "ticks": ""
            },
            "type": "mesh3d"
           }
          ],
          "parcoords": [
           {
            "line": {
             "colorbar": {
              "outlinewidth": 0,
              "ticks": ""
             }
            },
            "type": "parcoords"
           }
          ],
          "pie": [
           {
            "automargin": true,
            "type": "pie"
           }
          ],
          "scatter": [
           {
            "fillpattern": {
             "fillmode": "overlay",
             "size": 10,
             "solidity": 0.2
            },
            "type": "scatter"
           }
          ],
          "scatter3d": [
           {
            "line": {
             "colorbar": {
              "outlinewidth": 0,
              "ticks": ""
             }
            },
            "marker": {
             "colorbar": {
              "outlinewidth": 0,
              "ticks": ""
             }
            },
            "type": "scatter3d"
           }
          ],
          "scattercarpet": [
           {
            "marker": {
             "colorbar": {
              "outlinewidth": 0,
              "ticks": ""
             }
            },
            "type": "scattercarpet"
           }
          ],
          "scattergeo": [
           {
            "marker": {
             "colorbar": {
              "outlinewidth": 0,
              "ticks": ""
             }
            },
            "type": "scattergeo"
           }
          ],
          "scattergl": [
           {
            "marker": {
             "colorbar": {
              "outlinewidth": 0,
              "ticks": ""
             }
            },
            "type": "scattergl"
           }
          ],
          "scattermapbox": [
           {
            "marker": {
             "colorbar": {
              "outlinewidth": 0,
              "ticks": ""
             }
            },
            "type": "scattermapbox"
           }
          ],
          "scatterpolar": [
           {
            "marker": {
             "colorbar": {
              "outlinewidth": 0,
              "ticks": ""
             }
            },
            "type": "scatterpolar"
           }
          ],
          "scatterpolargl": [
           {
            "marker": {
             "colorbar": {
              "outlinewidth": 0,
              "ticks": ""
             }
            },
            "type": "scatterpolargl"
           }
          ],
          "scatterternary": [
           {
            "marker": {
             "colorbar": {
              "outlinewidth": 0,
              "ticks": ""
             }
            },
            "type": "scatterternary"
           }
          ],
          "surface": [
           {
            "colorbar": {
             "outlinewidth": 0,
             "ticks": ""
            },
            "colorscale": [
             [
              0,
              "#0d0887"
             ],
             [
              0.1111111111111111,
              "#46039f"
             ],
             [
              0.2222222222222222,
              "#7201a8"
             ],
             [
              0.3333333333333333,
              "#9c179e"
             ],
             [
              0.4444444444444444,
              "#bd3786"
             ],
             [
              0.5555555555555556,
              "#d8576b"
             ],
             [
              0.6666666666666666,
              "#ed7953"
             ],
             [
              0.7777777777777778,
              "#fb9f3a"
             ],
             [
              0.8888888888888888,
              "#fdca26"
             ],
             [
              1,
              "#f0f921"
             ]
            ],
            "type": "surface"
           }
          ],
          "table": [
           {
            "cells": {
             "fill": {
              "color": "#EBF0F8"
             },
             "line": {
              "color": "white"
             }
            },
            "header": {
             "fill": {
              "color": "#C8D4E3"
             },
             "line": {
              "color": "white"
             }
            },
            "type": "table"
           }
          ]
         },
         "layout": {
          "annotationdefaults": {
           "arrowcolor": "#2a3f5f",
           "arrowhead": 0,
           "arrowwidth": 1
          },
          "autotypenumbers": "strict",
          "coloraxis": {
           "colorbar": {
            "outlinewidth": 0,
            "ticks": ""
           }
          },
          "colorscale": {
           "diverging": [
            [
             0,
             "#8e0152"
            ],
            [
             0.1,
             "#c51b7d"
            ],
            [
             0.2,
             "#de77ae"
            ],
            [
             0.3,
             "#f1b6da"
            ],
            [
             0.4,
             "#fde0ef"
            ],
            [
             0.5,
             "#f7f7f7"
            ],
            [
             0.6,
             "#e6f5d0"
            ],
            [
             0.7,
             "#b8e186"
            ],
            [
             0.8,
             "#7fbc41"
            ],
            [
             0.9,
             "#4d9221"
            ],
            [
             1,
             "#276419"
            ]
           ],
           "sequential": [
            [
             0,
             "#0d0887"
            ],
            [
             0.1111111111111111,
             "#46039f"
            ],
            [
             0.2222222222222222,
             "#7201a8"
            ],
            [
             0.3333333333333333,
             "#9c179e"
            ],
            [
             0.4444444444444444,
             "#bd3786"
            ],
            [
             0.5555555555555556,
             "#d8576b"
            ],
            [
             0.6666666666666666,
             "#ed7953"
            ],
            [
             0.7777777777777778,
             "#fb9f3a"
            ],
            [
             0.8888888888888888,
             "#fdca26"
            ],
            [
             1,
             "#f0f921"
            ]
           ],
           "sequentialminus": [
            [
             0,
             "#0d0887"
            ],
            [
             0.1111111111111111,
             "#46039f"
            ],
            [
             0.2222222222222222,
             "#7201a8"
            ],
            [
             0.3333333333333333,
             "#9c179e"
            ],
            [
             0.4444444444444444,
             "#bd3786"
            ],
            [
             0.5555555555555556,
             "#d8576b"
            ],
            [
             0.6666666666666666,
             "#ed7953"
            ],
            [
             0.7777777777777778,
             "#fb9f3a"
            ],
            [
             0.8888888888888888,
             "#fdca26"
            ],
            [
             1,
             "#f0f921"
            ]
           ]
          },
          "colorway": [
           "#636efa",
           "#EF553B",
           "#00cc96",
           "#ab63fa",
           "#FFA15A",
           "#19d3f3",
           "#FF6692",
           "#B6E880",
           "#FF97FF",
           "#FECB52"
          ],
          "font": {
           "color": "#2a3f5f"
          },
          "geo": {
           "bgcolor": "white",
           "lakecolor": "white",
           "landcolor": "#E5ECF6",
           "showlakes": true,
           "showland": true,
           "subunitcolor": "white"
          },
          "hoverlabel": {
           "align": "left"
          },
          "hovermode": "closest",
          "mapbox": {
           "style": "light"
          },
          "paper_bgcolor": "white",
          "plot_bgcolor": "#E5ECF6",
          "polar": {
           "angularaxis": {
            "gridcolor": "white",
            "linecolor": "white",
            "ticks": ""
           },
           "bgcolor": "#E5ECF6",
           "radialaxis": {
            "gridcolor": "white",
            "linecolor": "white",
            "ticks": ""
           }
          },
          "scene": {
           "xaxis": {
            "backgroundcolor": "#E5ECF6",
            "gridcolor": "white",
            "gridwidth": 2,
            "linecolor": "white",
            "showbackground": true,
            "ticks": "",
            "zerolinecolor": "white"
           },
           "yaxis": {
            "backgroundcolor": "#E5ECF6",
            "gridcolor": "white",
            "gridwidth": 2,
            "linecolor": "white",
            "showbackground": true,
            "ticks": "",
            "zerolinecolor": "white"
           },
           "zaxis": {
            "backgroundcolor": "#E5ECF6",
            "gridcolor": "white",
            "gridwidth": 2,
            "linecolor": "white",
            "showbackground": true,
            "ticks": "",
            "zerolinecolor": "white"
           }
          },
          "shapedefaults": {
           "line": {
            "color": "#2a3f5f"
           }
          },
          "ternary": {
           "aaxis": {
            "gridcolor": "white",
            "linecolor": "white",
            "ticks": ""
           },
           "baxis": {
            "gridcolor": "white",
            "linecolor": "white",
            "ticks": ""
           },
           "bgcolor": "#E5ECF6",
           "caxis": {
            "gridcolor": "white",
            "linecolor": "white",
            "ticks": ""
           }
          },
          "title": {
           "x": 0.05
          },
          "xaxis": {
           "automargin": true,
           "gridcolor": "white",
           "linecolor": "white",
           "ticks": "",
           "title": {
            "standoff": 15
           },
           "zerolinecolor": "white",
           "zerolinewidth": 2
          },
          "yaxis": {
           "automargin": true,
           "gridcolor": "white",
           "linecolor": "white",
           "ticks": "",
           "title": {
            "standoff": 15
           },
           "zerolinecolor": "white",
           "zerolinewidth": 2
          }
         }
        },
        "title": {
         "text": "Multi-stage Sankey Diagram"
        },
        "width": 700
       }
      }
     },
     "metadata": {},
     "output_type": "display_data"
    }
   ],
   "source": [
    "'''为每天都增加所有机构的node。但是link会出错'''\n",
    "\n",
    "import plotly.graph_objects as go\n",
    "import pandas as pd\n",
    "import numpy as np\n",
    "from collections import defaultdict\n",
    "from datetime import datetime, timedelta\n",
    "\n",
    "# 假设我们有以下交易数据\n",
    "transactions = [\n",
    "    {'date': '2024.05.01', 'buyer': 'A1', 'seller': 'B2', 'volume': 100},\n",
    "    {'date': '2024.05.01', 'buyer': 'C1', 'seller': 'A3', 'volume': 150},\n",
    "    {'date': '2024.04.28', 'buyer': 'B1', 'seller': 'C2', 'volume': 80},\n",
    "    {'date': '2024.04.28', 'buyer': 'A2', 'seller': 'B3', 'volume': 120},\n",
    "    {'date': '2024.04.20', 'buyer': 'C2', 'seller': 'A1', 'volume': 90},\n",
    "    {'date': '2024.04.20', 'buyer': 'B3', 'seller': 'C1', 'volume': 110},\n",
    "]\n",
    "\n",
    "df = pd.DataFrame(transactions)\n",
    "dates = sorted(df['date'].unique(), reverse=True)\n",
    "\n",
    "# 添加一个新的日期，为最大日期的后一天\n",
    "max_date = datetime.strptime(max(dates), '%Y.%m.%d')\n",
    "new_max_date = (max_date + timedelta(days=1)).strftime('%Y.%m.%d')\n",
    "dates = [new_max_date] + dates\n",
    "\n",
    "# 提取所有唯一的机构\n",
    "all_institutions = sorted(set(df['buyer'].unique()) | set(df['seller'].unique()))\n",
    "\n",
    "# 为每个机构分配颜色\n",
    "color_map = {inst: f'rgb({np.random.randint(0,256)},{np.random.randint(0,256)},{np.random.randint(0,256)})' \n",
    "             for inst in all_institutions}\n",
    "\n",
    "# 创建节点和链接\n",
    "nodes = []\n",
    "links = []\n",
    "node_indices = {}\n",
    "\n",
    "# 找出每个机构的下一次卖出日期\n",
    "next_sell_date = defaultdict(lambda: new_max_date)\n",
    "for date in reversed(dates[1:]):  # 跳过新添加的日期\n",
    "    date_df = df[df['date'] == date]\n",
    "    for _, row in date_df.iterrows():\n",
    "        next_sell_date[row['seller']] = date\n",
    "\n",
    "# 为每个日期的每个机构创建节点\n",
    "for i, date in enumerate(dates):\n",
    "    for institution in all_institutions:\n",
    "        node_indices[(date, institution)] = len(nodes)\n",
    "        nodes.append(dict(\n",
    "            label=f\"{institution} ({date})\",\n",
    "            color=color_map[institution],\n",
    "            x=i / len(dates),\n",
    "            institution=institution\n",
    "        ))\n",
    "\n",
    "# 添加链接\n",
    "for _, row in df.iterrows():\n",
    "    source_index = node_indices[(row['date'], row['buyer'])]\n",
    "    target_index = node_indices[(row['date'], row['seller'])]\n",
    "    links.append(dict(\n",
    "        source=source_index,\n",
    "        target=target_index,\n",
    "        value=row['volume'],\n",
    "        color=color_map[row['buyer']]\n",
    "    ))\n",
    "\n",
    "# 全局计算y坐标\n",
    "for i, institution in enumerate(all_institutions):\n",
    "    for node in nodes:\n",
    "        if node['institution'] == institution:\n",
    "            node['y'] = i / (len(all_institutions) - 1)\n",
    "\n",
    "# 创建 Sankey 图\n",
    "fig = go.Figure(data=[go.Sankey(\n",
    "    node = dict(\n",
    "      pad = 15,\n",
    "      thickness = 20,\n",
    "      line = dict(color = \"black\", width = 0.5),\n",
    "      label = [node['label'] for node in nodes],\n",
    "      color = [node['color'] for node in nodes],\n",
    "      x = [node['x'] for node in nodes],\n",
    "      y = [node['y'] for node in nodes]\n",
    "    ),\n",
    "    link = dict(\n",
    "      source = [link['source'] for link in links],\n",
    "      target = [link['target'] for link in links],\n",
    "      value = [link['value'] for link in links],  # 进一步减小链接宽度\n",
    "      color = [link['color'] for link in links]\n",
    "  ))])\n",
    "\n",
    "# 更新布局\n",
    "fig.update_layout(\n",
    "    title_text=\"Multi-stage Sankey Diagram\",\n",
    "    font_size=10,\n",
    "    autosize=False,\n",
    "    width=700,\n",
    "    height=400,\n",
    "    margin=dict(t=50, l=50, r=50, b=50)\n",
    ")\n",
    "\n",
    "# 添加日期标签\n",
    "for i, date in enumerate(dates):\n",
    "    fig.add_annotation(\n",
    "        x=i/(len(dates)-1), y=1.05,\n",
    "        xref=\"paper\", yref=\"paper\",\n",
    "        text=date,\n",
    "        showarrow=False,\n",
    "        font=dict(size=14)\n",
    "    )\n",
    "\n",
    "fig.show()"
   ]
  },
  {
   "cell_type": "code",
   "execution_count": 70,
   "metadata": {},
   "outputs": [
    {
     "name": "stdout",
     "output_type": "stream",
     "text": [
      "         date buyer seller  volume\n",
      "0  2024.04.20     C     A1      90\n",
      "1  2024.04.20    B2      C     110\n",
      "2  2024.04.28    A2     B2     120\n",
      "3  2024.04.28    B1      C      80\n",
      "4  2024.05.01     C     A1     150\n",
      "5  2024.05.01    A1     B2     100\n",
      "dates: ['2024.04.20', '2024.04.28', '2024.05.01', '2024.05.02']\n",
      "[{'label': ('2024.04.20', 'A1'), 'color': 'rgb(177,106,201)', 'x': 0.0, 'institution': 'A1', 'y': 0.1209618889408577}, {'label': ('2024.04.20', 'A2'), 'color': 'rgb(44,13,121)', 'x': 0.0, 'institution': 'A2', 'y': 0.33870135316033095}, {'label': ('2024.04.20', 'B1'), 'color': 'rgb(70,38,167)', 'x': 0.0, 'institution': 'B1', 'y': 0.5}, {'label': ('2024.04.20', 'B2'), 'color': 'rgb(136,13,248)', 'x': 0.0, 'institution': 'B2', 'y': 0.6612905827137396}, {'label': ('2024.04.20', 'C'), 'color': 'rgb(135,208,248)', 'x': 0.0, 'institution': 'C', 'y': 0.879030046933213}, {'label': ('2024.04.28', 'A1'), 'color': 'rgb(177,106,201)', 'x': 0.3333333333333333, 'institution': 'A1', 'y': 0.1209618889408577}, {'label': ('2024.04.28', 'A2'), 'color': 'rgb(44,13,121)', 'x': 0.3333333333333333, 'institution': 'A2', 'y': 0.33870135316033095}, {'label': ('2024.04.28', 'B1'), 'color': 'rgb(70,38,167)', 'x': 0.3333333333333333, 'institution': 'B1', 'y': 0.5}, {'label': ('2024.04.28', 'B2'), 'color': 'rgb(136,13,248)', 'x': 0.3333333333333333, 'institution': 'B2', 'y': 0.6612905827137396}, {'label': ('2024.04.28', 'C'), 'color': 'rgb(135,208,248)', 'x': 0.3333333333333333, 'institution': 'C', 'y': 0.879030046933213}, {'label': ('2024.05.01', 'A1'), 'color': 'rgb(177,106,201)', 'x': 0.6666666666666666, 'institution': 'A1', 'y': 0.1209618889408577}, {'label': ('2024.05.01', 'A2'), 'color': 'rgb(44,13,121)', 'x': 0.6666666666666666, 'institution': 'A2', 'y': 0.33870135316033095}, {'label': ('2024.05.01', 'B1'), 'color': 'rgb(70,38,167)', 'x': 0.6666666666666666, 'institution': 'B1', 'y': 0.5}, {'label': ('2024.05.01', 'B2'), 'color': 'rgb(136,13,248)', 'x': 0.6666666666666666, 'institution': 'B2', 'y': 0.6612905827137396}, {'label': ('2024.05.01', 'C'), 'color': 'rgb(135,208,248)', 'x': 0.6666666666666666, 'institution': 'C', 'y': 0.879030046933213}, {'label': ('2024.05.02', 'A1'), 'color': 'rgb(177,106,201)', 'x': 1.0, 'institution': 'A1', 'y': 0.1209618889408577}, {'label': ('2024.05.02', 'A2'), 'color': 'rgb(44,13,121)', 'x': 1.0, 'institution': 'A2', 'y': 0.33870135316033095}, {'label': ('2024.05.02', 'B1'), 'color': 'rgb(70,38,167)', 'x': 1.0, 'institution': 'B1', 'y': 0.5}, {'label': ('2024.05.02', 'B2'), 'color': 'rgb(136,13,248)', 'x': 1.0, 'institution': 'B2', 'y': 0.6612905827137396}, {'label': ('2024.05.02', 'C'), 'color': 'rgb(135,208,248)', 'x': 1.0, 'institution': 'C', 'y': 0.879030046933213}]\n"
     ]
    },
    {
     "data": {
      "application/vnd.plotly.v1+json": {
       "config": {
        "plotlyServerURL": "https://plot.ly"
       },
       "data": [
        {
         "link": {
          "color": [
           "rgba(177, 106, 201, 0.4)",
           "rgba(44, 13, 121, 0.4)",
           "rgba(70, 38, 167, 0.4)",
           "rgba(136, 13, 248, 0.4)",
           "rgba(135, 208, 248, 0.4)",
           "rgba(177, 106, 201, 0.4)",
           "rgba(44, 13, 121, 0.4)",
           "rgba(70, 38, 167, 0.4)",
           "rgba(136, 13, 248, 0.4)",
           "rgba(135, 208, 248, 0.4)",
           "rgba(177, 106, 201, 0.4)",
           "rgba(44, 13, 121, 0.4)",
           "rgba(70, 38, 167, 0.4)",
           "rgba(136, 13, 248, 0.4)",
           "rgba(135, 208, 248, 0.4)"
          ],
          "source": [
           0,
           1,
           2,
           3,
           4,
           5,
           6,
           7,
           8,
           9,
           10,
           11,
           12,
           13,
           14
          ],
          "target": [
           9,
           6,
           7,
           8,
           8,
           10,
           11,
           12,
           16,
           17,
           19,
           16,
           17,
           15,
           19
          ],
          "value": [
           90,
           0.01,
           0.01,
           0.01,
           110,
           0.01,
           0.01,
           0.01,
           120,
           80,
           150,
           0.01,
           0.01,
           100,
           0.01
          ]
         },
         "node": {
          "color": [
           "rgb(177,106,201)",
           "rgb(44,13,121)",
           "rgb(70,38,167)",
           "rgb(136,13,248)",
           "rgb(135,208,248)",
           "rgb(177,106,201)",
           "rgb(44,13,121)",
           "rgb(70,38,167)",
           "rgb(136,13,248)",
           "rgb(135,208,248)",
           "rgb(177,106,201)",
           "rgb(44,13,121)",
           "rgb(70,38,167)",
           "rgb(136,13,248)",
           "rgb(135,208,248)",
           "rgb(177,106,201)",
           "rgb(44,13,121)",
           "rgb(70,38,167)",
           "rgb(136,13,248)",
           "rgb(135,208,248)"
          ],
          "label": [
           [
            "2024.04.20",
            "A1"
           ],
           [
            "2024.04.20",
            "A2"
           ],
           [
            "2024.04.20",
            "B1"
           ],
           [
            "2024.04.20",
            "B2"
           ],
           [
            "2024.04.20",
            "C"
           ],
           [
            "2024.04.28",
            "A1"
           ],
           [
            "2024.04.28",
            "A2"
           ],
           [
            "2024.04.28",
            "B1"
           ],
           [
            "2024.04.28",
            "B2"
           ],
           [
            "2024.04.28",
            "C"
           ],
           [
            "2024.05.01",
            "A1"
           ],
           [
            "2024.05.01",
            "A2"
           ],
           [
            "2024.05.01",
            "B1"
           ],
           [
            "2024.05.01",
            "B2"
           ],
           [
            "2024.05.01",
            "C"
           ],
           [
            "2024.05.02",
            "A1"
           ],
           [
            "2024.05.02",
            "A2"
           ],
           [
            "2024.05.02",
            "B1"
           ],
           [
            "2024.05.02",
            "B2"
           ],
           [
            "2024.05.02",
            "C"
           ]
          ],
          "line": {
           "color": "black",
           "width": 0.5
          },
          "pad": 10,
          "thickness": 10,
          "x": [
           0,
           0,
           0,
           0,
           0,
           0.3333333333333333,
           0.3333333333333333,
           0.3333333333333333,
           0.3333333333333333,
           0.3333333333333333,
           0.6666666666666666,
           0.6666666666666666,
           0.6666666666666666,
           0.6666666666666666,
           0.6666666666666666,
           1,
           1,
           1,
           1,
           1
          ]
         },
         "type": "sankey"
        }
       ],
       "layout": {
        "annotations": [
         {
          "font": {
           "size": 14
          },
          "showarrow": false,
          "text": "2024.04.20",
          "x": 1,
          "xref": "paper",
          "y": 1.05,
          "yref": "paper"
         },
         {
          "font": {
           "size": 14
          },
          "showarrow": false,
          "text": "2024.04.28",
          "x": 0.6666666666666667,
          "xref": "paper",
          "y": 1.05,
          "yref": "paper"
         },
         {
          "font": {
           "size": 14
          },
          "showarrow": false,
          "text": "2024.05.01",
          "x": 0.33333333333333337,
          "xref": "paper",
          "y": 1.05,
          "yref": "paper"
         },
         {
          "font": {
           "size": 14
          },
          "showarrow": false,
          "text": "2024.05.02",
          "x": 0,
          "xref": "paper",
          "y": 1.05,
          "yref": "paper"
         }
        ],
        "autosize": false,
        "font": {
         "size": 10
        },
        "height": 400,
        "margin": {
         "b": 50,
         "l": 50,
         "r": 50,
         "t": 50
        },
        "template": {
         "data": {
          "bar": [
           {
            "error_x": {
             "color": "#2a3f5f"
            },
            "error_y": {
             "color": "#2a3f5f"
            },
            "marker": {
             "line": {
              "color": "#E5ECF6",
              "width": 0.5
             },
             "pattern": {
              "fillmode": "overlay",
              "size": 10,
              "solidity": 0.2
             }
            },
            "type": "bar"
           }
          ],
          "barpolar": [
           {
            "marker": {
             "line": {
              "color": "#E5ECF6",
              "width": 0.5
             },
             "pattern": {
              "fillmode": "overlay",
              "size": 10,
              "solidity": 0.2
             }
            },
            "type": "barpolar"
           }
          ],
          "carpet": [
           {
            "aaxis": {
             "endlinecolor": "#2a3f5f",
             "gridcolor": "white",
             "linecolor": "white",
             "minorgridcolor": "white",
             "startlinecolor": "#2a3f5f"
            },
            "baxis": {
             "endlinecolor": "#2a3f5f",
             "gridcolor": "white",
             "linecolor": "white",
             "minorgridcolor": "white",
             "startlinecolor": "#2a3f5f"
            },
            "type": "carpet"
           }
          ],
          "choropleth": [
           {
            "colorbar": {
             "outlinewidth": 0,
             "ticks": ""
            },
            "type": "choropleth"
           }
          ],
          "contour": [
           {
            "colorbar": {
             "outlinewidth": 0,
             "ticks": ""
            },
            "colorscale": [
             [
              0,
              "#0d0887"
             ],
             [
              0.1111111111111111,
              "#46039f"
             ],
             [
              0.2222222222222222,
              "#7201a8"
             ],
             [
              0.3333333333333333,
              "#9c179e"
             ],
             [
              0.4444444444444444,
              "#bd3786"
             ],
             [
              0.5555555555555556,
              "#d8576b"
             ],
             [
              0.6666666666666666,
              "#ed7953"
             ],
             [
              0.7777777777777778,
              "#fb9f3a"
             ],
             [
              0.8888888888888888,
              "#fdca26"
             ],
             [
              1,
              "#f0f921"
             ]
            ],
            "type": "contour"
           }
          ],
          "contourcarpet": [
           {
            "colorbar": {
             "outlinewidth": 0,
             "ticks": ""
            },
            "type": "contourcarpet"
           }
          ],
          "heatmap": [
           {
            "colorbar": {
             "outlinewidth": 0,
             "ticks": ""
            },
            "colorscale": [
             [
              0,
              "#0d0887"
             ],
             [
              0.1111111111111111,
              "#46039f"
             ],
             [
              0.2222222222222222,
              "#7201a8"
             ],
             [
              0.3333333333333333,
              "#9c179e"
             ],
             [
              0.4444444444444444,
              "#bd3786"
             ],
             [
              0.5555555555555556,
              "#d8576b"
             ],
             [
              0.6666666666666666,
              "#ed7953"
             ],
             [
              0.7777777777777778,
              "#fb9f3a"
             ],
             [
              0.8888888888888888,
              "#fdca26"
             ],
             [
              1,
              "#f0f921"
             ]
            ],
            "type": "heatmap"
           }
          ],
          "heatmapgl": [
           {
            "colorbar": {
             "outlinewidth": 0,
             "ticks": ""
            },
            "colorscale": [
             [
              0,
              "#0d0887"
             ],
             [
              0.1111111111111111,
              "#46039f"
             ],
             [
              0.2222222222222222,
              "#7201a8"
             ],
             [
              0.3333333333333333,
              "#9c179e"
             ],
             [
              0.4444444444444444,
              "#bd3786"
             ],
             [
              0.5555555555555556,
              "#d8576b"
             ],
             [
              0.6666666666666666,
              "#ed7953"
             ],
             [
              0.7777777777777778,
              "#fb9f3a"
             ],
             [
              0.8888888888888888,
              "#fdca26"
             ],
             [
              1,
              "#f0f921"
             ]
            ],
            "type": "heatmapgl"
           }
          ],
          "histogram": [
           {
            "marker": {
             "pattern": {
              "fillmode": "overlay",
              "size": 10,
              "solidity": 0.2
             }
            },
            "type": "histogram"
           }
          ],
          "histogram2d": [
           {
            "colorbar": {
             "outlinewidth": 0,
             "ticks": ""
            },
            "colorscale": [
             [
              0,
              "#0d0887"
             ],
             [
              0.1111111111111111,
              "#46039f"
             ],
             [
              0.2222222222222222,
              "#7201a8"
             ],
             [
              0.3333333333333333,
              "#9c179e"
             ],
             [
              0.4444444444444444,
              "#bd3786"
             ],
             [
              0.5555555555555556,
              "#d8576b"
             ],
             [
              0.6666666666666666,
              "#ed7953"
             ],
             [
              0.7777777777777778,
              "#fb9f3a"
             ],
             [
              0.8888888888888888,
              "#fdca26"
             ],
             [
              1,
              "#f0f921"
             ]
            ],
            "type": "histogram2d"
           }
          ],
          "histogram2dcontour": [
           {
            "colorbar": {
             "outlinewidth": 0,
             "ticks": ""
            },
            "colorscale": [
             [
              0,
              "#0d0887"
             ],
             [
              0.1111111111111111,
              "#46039f"
             ],
             [
              0.2222222222222222,
              "#7201a8"
             ],
             [
              0.3333333333333333,
              "#9c179e"
             ],
             [
              0.4444444444444444,
              "#bd3786"
             ],
             [
              0.5555555555555556,
              "#d8576b"
             ],
             [
              0.6666666666666666,
              "#ed7953"
             ],
             [
              0.7777777777777778,
              "#fb9f3a"
             ],
             [
              0.8888888888888888,
              "#fdca26"
             ],
             [
              1,
              "#f0f921"
             ]
            ],
            "type": "histogram2dcontour"
           }
          ],
          "mesh3d": [
           {
            "colorbar": {
             "outlinewidth": 0,
             "ticks": ""
            },
            "type": "mesh3d"
           }
          ],
          "parcoords": [
           {
            "line": {
             "colorbar": {
              "outlinewidth": 0,
              "ticks": ""
             }
            },
            "type": "parcoords"
           }
          ],
          "pie": [
           {
            "automargin": true,
            "type": "pie"
           }
          ],
          "scatter": [
           {
            "fillpattern": {
             "fillmode": "overlay",
             "size": 10,
             "solidity": 0.2
            },
            "type": "scatter"
           }
          ],
          "scatter3d": [
           {
            "line": {
             "colorbar": {
              "outlinewidth": 0,
              "ticks": ""
             }
            },
            "marker": {
             "colorbar": {
              "outlinewidth": 0,
              "ticks": ""
             }
            },
            "type": "scatter3d"
           }
          ],
          "scattercarpet": [
           {
            "marker": {
             "colorbar": {
              "outlinewidth": 0,
              "ticks": ""
             }
            },
            "type": "scattercarpet"
           }
          ],
          "scattergeo": [
           {
            "marker": {
             "colorbar": {
              "outlinewidth": 0,
              "ticks": ""
             }
            },
            "type": "scattergeo"
           }
          ],
          "scattergl": [
           {
            "marker": {
             "colorbar": {
              "outlinewidth": 0,
              "ticks": ""
             }
            },
            "type": "scattergl"
           }
          ],
          "scattermapbox": [
           {
            "marker": {
             "colorbar": {
              "outlinewidth": 0,
              "ticks": ""
             }
            },
            "type": "scattermapbox"
           }
          ],
          "scatterpolar": [
           {
            "marker": {
             "colorbar": {
              "outlinewidth": 0,
              "ticks": ""
             }
            },
            "type": "scatterpolar"
           }
          ],
          "scatterpolargl": [
           {
            "marker": {
             "colorbar": {
              "outlinewidth": 0,
              "ticks": ""
             }
            },
            "type": "scatterpolargl"
           }
          ],
          "scatterternary": [
           {
            "marker": {
             "colorbar": {
              "outlinewidth": 0,
              "ticks": ""
             }
            },
            "type": "scatterternary"
           }
          ],
          "surface": [
           {
            "colorbar": {
             "outlinewidth": 0,
             "ticks": ""
            },
            "colorscale": [
             [
              0,
              "#0d0887"
             ],
             [
              0.1111111111111111,
              "#46039f"
             ],
             [
              0.2222222222222222,
              "#7201a8"
             ],
             [
              0.3333333333333333,
              "#9c179e"
             ],
             [
              0.4444444444444444,
              "#bd3786"
             ],
             [
              0.5555555555555556,
              "#d8576b"
             ],
             [
              0.6666666666666666,
              "#ed7953"
             ],
             [
              0.7777777777777778,
              "#fb9f3a"
             ],
             [
              0.8888888888888888,
              "#fdca26"
             ],
             [
              1,
              "#f0f921"
             ]
            ],
            "type": "surface"
           }
          ],
          "table": [
           {
            "cells": {
             "fill": {
              "color": "#EBF0F8"
             },
             "line": {
              "color": "white"
             }
            },
            "header": {
             "fill": {
              "color": "#C8D4E3"
             },
             "line": {
              "color": "white"
             }
            },
            "type": "table"
           }
          ]
         },
         "layout": {
          "annotationdefaults": {
           "arrowcolor": "#2a3f5f",
           "arrowhead": 0,
           "arrowwidth": 1
          },
          "autotypenumbers": "strict",
          "coloraxis": {
           "colorbar": {
            "outlinewidth": 0,
            "ticks": ""
           }
          },
          "colorscale": {
           "diverging": [
            [
             0,
             "#8e0152"
            ],
            [
             0.1,
             "#c51b7d"
            ],
            [
             0.2,
             "#de77ae"
            ],
            [
             0.3,
             "#f1b6da"
            ],
            [
             0.4,
             "#fde0ef"
            ],
            [
             0.5,
             "#f7f7f7"
            ],
            [
             0.6,
             "#e6f5d0"
            ],
            [
             0.7,
             "#b8e186"
            ],
            [
             0.8,
             "#7fbc41"
            ],
            [
             0.9,
             "#4d9221"
            ],
            [
             1,
             "#276419"
            ]
           ],
           "sequential": [
            [
             0,
             "#0d0887"
            ],
            [
             0.1111111111111111,
             "#46039f"
            ],
            [
             0.2222222222222222,
             "#7201a8"
            ],
            [
             0.3333333333333333,
             "#9c179e"
            ],
            [
             0.4444444444444444,
             "#bd3786"
            ],
            [
             0.5555555555555556,
             "#d8576b"
            ],
            [
             0.6666666666666666,
             "#ed7953"
            ],
            [
             0.7777777777777778,
             "#fb9f3a"
            ],
            [
             0.8888888888888888,
             "#fdca26"
            ],
            [
             1,
             "#f0f921"
            ]
           ],
           "sequentialminus": [
            [
             0,
             "#0d0887"
            ],
            [
             0.1111111111111111,
             "#46039f"
            ],
            [
             0.2222222222222222,
             "#7201a8"
            ],
            [
             0.3333333333333333,
             "#9c179e"
            ],
            [
             0.4444444444444444,
             "#bd3786"
            ],
            [
             0.5555555555555556,
             "#d8576b"
            ],
            [
             0.6666666666666666,
             "#ed7953"
            ],
            [
             0.7777777777777778,
             "#fb9f3a"
            ],
            [
             0.8888888888888888,
             "#fdca26"
            ],
            [
             1,
             "#f0f921"
            ]
           ]
          },
          "colorway": [
           "#636efa",
           "#EF553B",
           "#00cc96",
           "#ab63fa",
           "#FFA15A",
           "#19d3f3",
           "#FF6692",
           "#B6E880",
           "#FF97FF",
           "#FECB52"
          ],
          "font": {
           "color": "#2a3f5f"
          },
          "geo": {
           "bgcolor": "white",
           "lakecolor": "white",
           "landcolor": "#E5ECF6",
           "showlakes": true,
           "showland": true,
           "subunitcolor": "white"
          },
          "hoverlabel": {
           "align": "left"
          },
          "hovermode": "closest",
          "mapbox": {
           "style": "light"
          },
          "paper_bgcolor": "white",
          "plot_bgcolor": "#E5ECF6",
          "polar": {
           "angularaxis": {
            "gridcolor": "white",
            "linecolor": "white",
            "ticks": ""
           },
           "bgcolor": "#E5ECF6",
           "radialaxis": {
            "gridcolor": "white",
            "linecolor": "white",
            "ticks": ""
           }
          },
          "scene": {
           "xaxis": {
            "backgroundcolor": "#E5ECF6",
            "gridcolor": "white",
            "gridwidth": 2,
            "linecolor": "white",
            "showbackground": true,
            "ticks": "",
            "zerolinecolor": "white"
           },
           "yaxis": {
            "backgroundcolor": "#E5ECF6",
            "gridcolor": "white",
            "gridwidth": 2,
            "linecolor": "white",
            "showbackground": true,
            "ticks": "",
            "zerolinecolor": "white"
           },
           "zaxis": {
            "backgroundcolor": "#E5ECF6",
            "gridcolor": "white",
            "gridwidth": 2,
            "linecolor": "white",
            "showbackground": true,
            "ticks": "",
            "zerolinecolor": "white"
           }
          },
          "shapedefaults": {
           "line": {
            "color": "#2a3f5f"
           }
          },
          "ternary": {
           "aaxis": {
            "gridcolor": "white",
            "linecolor": "white",
            "ticks": ""
           },
           "baxis": {
            "gridcolor": "white",
            "linecolor": "white",
            "ticks": ""
           },
           "bgcolor": "#E5ECF6",
           "caxis": {
            "gridcolor": "white",
            "linecolor": "white",
            "ticks": ""
           }
          },
          "title": {
           "x": 0.05
          },
          "xaxis": {
           "automargin": true,
           "gridcolor": "white",
           "linecolor": "white",
           "ticks": "",
           "title": {
            "standoff": 15
           },
           "zerolinecolor": "white",
           "zerolinewidth": 2
          },
          "yaxis": {
           "automargin": true,
           "gridcolor": "white",
           "linecolor": "white",
           "ticks": "",
           "title": {
            "standoff": 15
           },
           "zerolinecolor": "white",
           "zerolinewidth": 2
          }
         }
        },
        "title": {
         "text": "Multi-stage Sankey Diagram"
        },
        "width": 700
       }
      }
     },
     "metadata": {},
     "output_type": "display_data"
    }
   ],
   "source": [
    "'''为每天增加所有机构的node。并构建一个全链接link, 如果本身有link，则不构建，否则增加一个很小的value'''\n",
    "import plotly.graph_objects as go\n",
    "import pandas as pd\n",
    "import numpy as np\n",
    "from datetime import datetime, timedelta\n",
    "from matplotlib.colors import to_rgba\n",
    "import re\n",
    "# from collections import defaultdict\n",
    "\n",
    "# 假设我们有以下交易数据\n",
    "transactions = [\n",
    "    {'date': '2024.05.01', 'buyer': 'A1', 'seller': 'B2', 'volume': 100},\n",
    "    {'date': '2024.05.01', 'buyer': 'C',  'seller': 'A1', 'volume': 150},\n",
    "    {'date': '2024.04.28', 'buyer': 'B1', 'seller': 'C',  'volume': 80},\n",
    "    {'date': '2024.04.28', 'buyer': 'A2', 'seller': 'B2', 'volume': 120},\n",
    "    {'date': '2024.04.20', 'buyer': 'C',  'seller': 'A1', 'volume': 90},\n",
    "    {'date': '2024.04.20', 'buyer': 'B2', 'seller': 'C',  'volume': 110},\n",
    "]\n",
    "df = pd.DataFrame(transactions)\n",
    "# 根据日期、买方和卖方对交易数据进行排序\n",
    "df_sorted = df.sort_values(by=['date', 'seller', 'buyer'])\n",
    "df = df_sorted.reset_index(drop=True)\n",
    "print(df)\n",
    "\n",
    "dates = sorted(df['date'].unique(), reverse=False)\n",
    "\n",
    "# 添加一个新的日期，为最大日期的后一天\n",
    "max_date = datetime.strptime(max(dates), '%Y.%m.%d')\n",
    "new_max_date = (max_date + timedelta(days=1)).strftime('%Y.%m.%d')\n",
    "dates = dates + [new_max_date]\n",
    "print(f\"dates: {dates}\")\n",
    "\n",
    "# 颜色增加透明度\n",
    "def add_alpha_2_color(color, alpha):\n",
    "    if color.startswith('rgb'):\n",
    "        # 使用正则表达式提取 RGB 值\n",
    "        r, g, b = map(int, re.findall(r'\\d+', color))\n",
    "        return f\"rgba({r}, {g}, {b}, {alpha})\"\n",
    "    else:\n",
    "        # 对于其他格式的颜色，使用 to_rgba\n",
    "        rgba = to_rgba(color)\n",
    "        return f\"rgba({int(rgba[0]*255)}, {int(rgba[1]*255)}, {int(rgba[2]*255)}, {alpha})\"\n",
    "\n",
    "# 提取所有唯一的机构, 为每个机构分配颜色\n",
    "all_institutions = sorted(set(df['buyer'].unique()) | set(df['seller'].unique()))\n",
    "color_map = {inst: f'rgb({np.random.randint(0,256)},{np.random.randint(0,256)},{np.random.randint(0,256)})' \n",
    "             for inst in all_institutions}\n",
    "\n",
    "# 创建节点和链接\n",
    "nodes = []\n",
    "links = []\n",
    "node_indices = {} # ('2024.05.02', 'A1'): index\n",
    "\n",
    "#为每个日期的创建所有机构节点\n",
    "for i, date in enumerate(dates):\n",
    "    for institution in all_institutions:\n",
    "        node_indices[(date, institution)] = len(nodes)\n",
    "        nodes.append(dict(\n",
    "            # label=f\"{institution} ({date})\",\n",
    "            label = (date, institution),\n",
    "            color=color_map[institution],\n",
    "            x=i / (len(dates) - 1),\n",
    "            institution=institution\n",
    "        ))\n",
    "\n",
    "# 找出每个机构的下一次卖出日期\n",
    "next_sell_date = defaultdict(lambda: new_max_date) # 可以为不存在的键提供默认值\n",
    "for i, date in enumerate(dates[:-1]):  # 跳过新添加的日期\n",
    "    date_df = df[df['date'] == date]\n",
    "    # print(f\"{date_df}\")\n",
    "    for _, row in date_df.iterrows():\n",
    "        current_buyer = row['buyer']\n",
    "        # 查找当前买家在之后日期的卖出交易\n",
    "        current_buyer_future_trades = df[(df['date'] > date) & (df['seller'] == current_buyer)]\n",
    "        if not current_buyer_future_trades.empty:\n",
    "            # 如果存在未来卖出交易，获取最早的一次交易日期\n",
    "            next_sell_date[(date, current_buyer)] = current_buyer_future_trades['date'].min()\n",
    "        else:\n",
    "            # 如果不存在未来卖出交易，设置为新的最大日期\n",
    "            next_sell_date[(date, current_buyer)] = new_max_date\n",
    "        # print(date, current_buyer, next_sell_date[(date, current_buyer)])\n",
    "\n",
    "# 构建全链接图, 如果本身有link，则不构建，否则增加一个很小的value\n",
    "for i, date in enumerate(dates):\n",
    "    if date != new_max_date:\n",
    "        # 遍历所有日期和机构, 从最早的日期开始\n",
    "        for sell_inst in all_institutions:\n",
    "            source_index = node_indices[(date, sell_inst)] # 卖方节点 index\n",
    "            current_date_trades = df[(df['date'] == date) & (df['seller'] == sell_inst)]\n",
    "            # 如果该机构当前日期存在卖出交易，则构建link\n",
    "            if not current_date_trades.empty:\n",
    "                for _, row in current_date_trades.iterrows():\n",
    "                    buy_inst = row['buyer']\n",
    "                    target_index = node_indices[(next_sell_date[(date, buy_inst)], buy_inst)]\n",
    "                    links.append(dict(\n",
    "                        source=source_index,\n",
    "                        target=target_index,\n",
    "                        value=row['volume'],\n",
    "                        color=add_alpha_2_color(color_map[sell_inst], 0.4)\n",
    "                    ))\n",
    "            # 对于在当前日期不存在卖出交易的机构，构建一个到自身的link\n",
    "            else:\n",
    "                links.append(dict(\n",
    "                    source=source_index,\n",
    "                    target=source_index+len(all_institutions),\n",
    "                    value=0.01,\n",
    "                    # color='rgba(0,0,0,0)'  # 设置为完全透明的颜色\n",
    "                    color=add_alpha_2_color(color_map[sell_inst], 0.4)\n",
    "                ))\n",
    "    else:\n",
    "        break\n",
    "\n",
    "# 计算每个机构的全局y坐标，考虑到link value的大小\n",
    "node_buy_values = defaultdict(float)\n",
    "node_sell_values = defaultdict(float)\n",
    "for link in links:\n",
    "    node_sell_values[link['source']] += link['value']\n",
    "    node_buy_values[link['target']] += link['value']\n",
    "node_values = defaultdict(float)\n",
    "for node in node_buy_values.keys() | node_sell_values.keys():\n",
    "    node_values[node] = max(node_buy_values[node], node_sell_values[node])\n",
    "\n",
    "inst_values = defaultdict(float)\n",
    "for inst in all_institutions:\n",
    "    for (date, institution), idx in node_indices.items():\n",
    "        if institution == inst:\n",
    "            inst_values[inst] = max(node_values[idx], inst_values[inst])\n",
    "\n",
    "# print(node_values)\n",
    "# print(inst_values)\n",
    "\n",
    "# 计算全局的总值\n",
    "total_value = sum(inst_values.values())\n",
    "\n",
    "# 计算每个节点的y坐标\n",
    "cumulative_value = 0\n",
    "for i in range(len(all_institutions)):\n",
    "    inst_value = inst_values[all_institutions[i]]\n",
    "    for d in range(len(dates)):\n",
    "        node = nodes[d*len(all_institutions)+i]\n",
    "        node['y'] = (cumulative_value + inst_value/2) / total_value\n",
    "    cumulative_value += inst_value\n",
    "\n",
    "print(nodes)\n",
    "\n",
    "\n",
    "\n",
    "# 创建 Sankey 图\n",
    "fig = go.Figure(data=[go.Sankey(\n",
    "    node = dict(\n",
    "      pad = 10,\n",
    "      thickness = 10,\n",
    "      line = dict(color = \"black\", width = 0.5),\n",
    "      label = [node['label'] for node in nodes],\n",
    "      # label = [node['institution'] for node in nodes],\n",
    "      color = [node['color'] for node in nodes],\n",
    "      x = [node['x'] for node in nodes]\n",
    "      #   y = [node['y'] for node in nodes]\n",
    "    ),\n",
    "    link = dict(\n",
    "      source = [link['source'] for link in links],\n",
    "      target = [link['target'] for link in links],\n",
    "      value = [link['value'] for link in links],\n",
    "      color = [link['color'] for link in links]\n",
    "  ))])\n",
    "# print(fig)\n",
    "\n",
    "# 更新布局\n",
    "fig.update_layout(\n",
    "    title_text=\"Multi-stage Sankey Diagram\",\n",
    "    font_size=10,\n",
    "    autosize=False,\n",
    "    width=700,\n",
    "    height=400,\n",
    "    margin=dict(t=50, l=50, r=50, b=50)\n",
    ")\n",
    "\n",
    "# 添加日期标签\n",
    "for i, date in enumerate(dates):\n",
    "    fig.add_annotation(\n",
    "        x=1-i/(len(dates)-1), y=1.05,\n",
    "        xref=\"paper\", yref=\"paper\",\n",
    "        text=date,\n",
    "        showarrow=False,\n",
    "        font=dict(size=14)\n",
    "    )\n",
    "\n",
    "fig.show()"
   ]
  },
  {
   "cell_type": "markdown",
   "metadata": {},
   "source": [
    "#### 数据\n",
    "生成一些交易假数据，用于绘制demo图"
   ]
  },
  {
   "cell_type": "code",
   "execution_count": 53,
   "metadata": {},
   "outputs": [],
   "source": [
    "import pandas as pd\n",
    "import numpy as np\n",
    "from datetime import datetime, timedelta\n",
    "\n",
    "# 生成机构和交易员名称\n",
    "institutions = ['机构A', '机构B', '机构C', '机构D', '机构E']\n",
    "traders = ['交易员1', '交易员2', '交易员3', '交易员4', '交易员5']\n",
    "\n",
    "# 生成100条交易数据\n",
    "n_transactions = 100\n",
    "data = []\n",
    "\n",
    "for _ in range(n_transactions):\n",
    "    # 生成交易时间\n",
    "    transaction_time = datetime.now() - timedelta(days=np.random.randint(0, 30))\n",
    "    \n",
    "    # 生成交易量\n",
    "    volume = np.random.randint(1000, 100000)\n",
    "    \n",
    "    # 生成买、卖方信息\n",
    "    buyer_institution = np.random.choice(institutions)\n",
    "    buyer_trader = np.random.choice(traders)\n",
    "    seller_institution = np.random.choice(institutions)\n",
    "    seller_trader = np.random.choice(traders)\n",
    "    \n",
    "    # 确保买方和卖方不是同一机构\n",
    "    while seller_institution == buyer_institution:\n",
    "        seller_institution = np.random.choice(institutions)\n",
    "    \n",
    "    # 添加到数据列表\n",
    "    data.append({\n",
    "        '交易时间': transaction_time,\n",
    "        '交易量': volume,\n",
    "        '买方机构': buyer_institution,\n",
    "        '买方交易员': buyer_trader,\n",
    "        '卖方机构': seller_institution,\n",
    "        '卖方交易员': seller_trader\n",
    "    })\n",
    "\n",
    "# 创建DataFrame\n",
    "df = pd.DataFrame(data)\n",
    "# print(df.head())"
   ]
  },
  {
   "cell_type": "markdown",
   "metadata": {},
   "source": [
    "##### 过滤当天对倒交易，仅保留交易净值"
   ]
  },
  {
   "cell_type": "code",
   "execution_count": 54,
   "metadata": {},
   "outputs": [
    {
     "name": "stdout",
     "output_type": "stream",
     "text": [
      "         交易日期                      机构交易员对   净交易量\n",
      "0  2024-08-13  ((机构A, 交易员1), (机构D, 交易员3)) -46283\n",
      "1  2024-08-13  ((机构A, 交易员1), (机构E, 交易员3))   3761\n",
      "2  2024-08-13  ((机构A, 交易员2), (机构E, 交易员4))  48327\n",
      "3  2024-08-13  ((机构A, 交易员4), (机构D, 交易员2)) -28858\n",
      "4  2024-08-13  ((机构B, 交易员5), (机构E, 交易员1))  49105\n",
      "  买方机构 买方交易员 卖方机构 卖方交易员        交易日期   净交易量\n",
      "0  机构A  交易员1  机构D  交易员3  2024-08-13  46283\n",
      "1  机构E  交易员3  机构A  交易员1  2024-08-13   3761\n",
      "2  机构E  交易员4  机构A  交易员2  2024-08-13  48327\n",
      "3  机构A  交易员4  机构D  交易员2  2024-08-13  28858\n",
      "4  机构E  交易员1  机构B  交易员5  2024-08-13  49105\n"
     ]
    }
   ],
   "source": [
    "# def calculate_net_volume(group):\n",
    "#     print(\"group\\n\", group)\n",
    "#     pairs = group['机构交易员对'].iloc[0]\n",
    "#     inst_a, trader_a = pairs[0]\n",
    "#     inst_b, trader_b = pairs[1]\n",
    "#     volume_a_to_b = group[(group['买方机构'] == inst_b) & (group['买方交易员'] == trader_b) & \n",
    "#                           (group['卖方机构'] == inst_a) & (group['卖方交易员'] == trader_a)]['交易量'].sum()\n",
    "#     volume_b_to_a = group[(group['买方机构'] == inst_a) & (group['买方交易员'] == trader_a) & \n",
    "#                           (group['卖方机构'] == inst_b) & (group['卖方交易员'] == trader_b)]['交易量'].sum()\n",
    "#     return volume_a_to_b - volume_b_to_a\n",
    "\n",
    "def process_daily_net_transactions(df):    \n",
    "    df['交易日期'] = pd.to_datetime(df['交易时间']).dt.date\n",
    "    df['机构交易员对'] = df.apply(lambda row: tuple(sorted([(row['买方机构'], row['买方交易员']), \n",
    "                                                      (row['卖方机构'], row['卖方交易员'])])), axis=1)\n",
    "    \n",
    "    direct_df = df.copy()\n",
    "    direct_df['direction'] = 1\n",
    "    direct_df.loc[ (direct_df['买方机构']==direct_df['机构交易员对'].map(lambda x: x[1][0])) & \n",
    "        (direct_df['买方交易员']==direct_df['机构交易员对'].map(lambda x: x[1][1])), 'direction'] = -1\n",
    "    \n",
    "    direct_df['净交易量'] = direct_df['交易量'] * direct_df['direction']\n",
    "    net_df = direct_df.groupby(['交易日期', '机构交易员对'])['净交易量'].sum().reset_index()\n",
    "    print(net_df.head())\n",
    "\n",
    "\n",
    "    # # 新版本的 pandas 不支持 groupby 和 apply 一起用了\n",
    "    # net_transactions = df.groupby(['交易日期', '机构交易员对']).apply(calculate_net_volume).reset_index()\n",
    "    # print(net_transactions.head())\n",
    "    \n",
    "    result_df = []\n",
    "    for _, row in net_df.iterrows():\n",
    "        if row['净交易量'] != 0:\n",
    "            (inst_a, trader_a), (inst_b, trader_b) = row['机构交易员对']\n",
    "            if row['净交易量'] > 0:\n",
    "                seller, seller_trader, buyer, buyer_trader = inst_a, trader_a, inst_b, trader_b\n",
    "            else:\n",
    "                seller, seller_trader, buyer, buyer_trader = inst_b, trader_b, inst_a, trader_a\n",
    "            result_df.append({\n",
    "                '买方机构': buyer,\n",
    "                '买方交易员': buyer_trader,\n",
    "                '卖方机构': seller,\n",
    "                '卖方交易员': seller_trader,\n",
    "                '交易日期': row['交易日期'],\n",
    "                '净交易量': abs(row['净交易量'])\n",
    "            })\n",
    "    \n",
    "    return pd.DataFrame(result_df)\n",
    "\n",
    "net_df = process_daily_net_transactions(df)\n",
    "print(net_df.head())"
   ]
  },
  {
   "cell_type": "markdown",
   "metadata": {},
   "source": [
    "##### 展示数据"
   ]
  },
  {
   "cell_type": "code",
   "execution_count": 38,
   "metadata": {},
   "outputs": [],
   "source": [
    "# 按机构和交易员分组，并显示买入交易\n",
    "grouped_df = net_df.groupby(['买方机构', '买方交易员'])\n",
    "\n",
    "print(\"\\n按机构和交易员分组的买入交易：\")\n",
    "for (institution, trader), group in grouped_df:\n",
    "    print(f\"\\n{institution} - {trader} 的买入交易：\")\n",
    "    sorted_group = group.sort_values('交易时间')\n",
    "    print(sorted_group[['交易时间', '交易量', '卖方机构', '卖方交易员']])"
   ]
  },
  {
   "cell_type": "code",
   "execution_count": 39,
   "metadata": {},
   "outputs": [],
   "source": [
    "# 按机构和交易员分组，并显示卖出交易\n",
    "grouped_df = net_df.groupby(['卖方机构', '卖方交易员'])\n",
    "\n",
    "print(\"\\n按机构和交易员分组的卖出交易：\")\n",
    "for (institution, trader), group in grouped_df:\n",
    "    print(f\"\\n{institution} - {trader} 的卖出交易：\")\n",
    "    sorted_group = group.sort_values('交易时间')\n",
    "    print(sorted_group[['交易时间', '交易量', '买方机构', '买方交易员']])"
   ]
  },
  {
   "cell_type": "markdown",
   "metadata": {},
   "source": [
    "#### 绘制 Demo 设计\n",
    "##### 设置常量"
   ]
  },
  {
   "cell_type": "code",
   "execution_count": 59,
   "metadata": {},
   "outputs": [],
   "source": [
    "from datetime import datetime, timedelta\n",
    "import plotly.express as px\n",
    "\n",
    "# 获取唯一的机构\n",
    "institutions = list(set(net_df['买方机构'].unique().tolist() + net_df['卖方机构'].unique().tolist()))\n",
    "\n",
    "# 获取每个机构的唯一交易员\n",
    "institution_traders = {}\n",
    "for instn in institutions:\n",
    "    buy_traders = net_df[net_df['买方机构'] == instn]['买方交易员'].unique().tolist()\n",
    "    sell_traders = net_df[net_df['卖方机构'] == instn]['卖方交易员'].unique().tolist()\n",
    "    institution_traders[instn] = list(set(buy_traders + sell_traders))\n",
    "\n",
    "# 设置颜色映射\n",
    "color_map = px.colors.qualitative.Plotly\n",
    "institution_colors = {inst: color_map[i % len(color_map)] for i, inst in enumerate(institutions)}\n",
    "\n",
    "# 设置时间范围\n",
    "t_earliest = net_df['交易日期'].min()\n",
    "t_latest = net_df['交易日期'].max()\n",
    "t_duration = (t_latest - t_earliest).days\n",
    "# print(t_earliest, t_latest, t_duration)\n",
    "\n",
    "# 定义时间到长度的映射函数\n",
    "def time_to_length(t):\n",
    "    return CONSTRANTS[\"x_start\"] + (t_latest - t).days / t_duration * CONSTRANTS[\"x_range\"]\n",
    "\n",
    "# 绘制图表的常量\n",
    "CONSTRANTS = {\n",
    "    # 计算y轴位置\n",
    "    \"y_loc\" : {},\n",
    "    \"y0\" : 0,\n",
    "    \"instn_gap\" : 2,\n",
    "    \"trader_gap\" : 0.5,\n",
    "    \"trader_h\" : 1,\n",
    "    \"trader_w\" : 1,\n",
    "    # 添加x轴的时间和长度的映射\n",
    "    \"x_start\" : 0,\n",
    "    \"x_end\" : 200,\n",
    "    \"x_range\" : 0,\n",
    "    \"axis_slot\" : 3\n",
    "}\n",
    "CONSTRANTS[\"x_range\"] = CONSTRANTS[\"x_end\"] - CONSTRANTS[\"x_start\"]"
   ]
  },
  {
   "cell_type": "markdown",
   "metadata": {},
   "source": [
    "##### 计算纵坐标位置"
   ]
  },
  {
   "cell_type": "code",
   "execution_count": 60,
   "metadata": {},
   "outputs": [
    {
     "data": {
      "text/plain": [
       "'需要获取每个交易员持有的最大数额'"
      ]
     },
     "execution_count": 60,
     "metadata": {},
     "output_type": "execute_result"
    }
   ],
   "source": [
    "for instn, trader_list in institution_traders.items():\n",
    "    # y_loc[instn] = y0\n",
    "    for trader in trader_list:\n",
    "        CONSTRANTS[\"y_loc\"][f\"{instn}-{trader}\"] = CONSTRANTS[\"y0\"]\n",
    "        CONSTRANTS[\"y0\"] += CONSTRANTS[\"trader_h\"] + CONSTRANTS[\"trader_gap\"]\n",
    "    CONSTRANTS[\"y0\"] += CONSTRANTS[\"instn_gap\"]\n",
    "# print(y_loc)\n",
    "\n",
    "\"\"\"需要获取每个交易员持有的最大数额\"\"\"\n",
    "# 获取每个机构的每个交易员在当前所有交易中的最大流量\n",
    "# trader_max_volume = {}\n",
    "\n",
    "# for instn in institutions:\n",
    "#     for trader in institution_traders[instn]:\n",
    "#         # 获取买方交易\n",
    "#         buy_volume = net_df[(net_df['买方机构'] == instn) & (df['买方交易员'] == trader)]['交易量'].max()\n",
    "#         # 获取卖方交易\n",
    "#         sell_volume = df[(df['卖方机构'] == instn) & (df['卖方交易员'] == trader)]['交易量'].max()\n",
    "#         # 取买卖方交易中的最大值\n",
    "#         max_volume = max(buy_volume, sell_volume) if not pd.isna(buy_volume) and not pd.isna(sell_volume) else (buy_volume if not pd.isna(buy_volume) else sell_volume)\n",
    "        \n",
    "#         trader_max_volume[f\"{instn}-{trader}\"] = max_volume if not pd.isna(max_volume) else 0\n",
    "\n",
    "\n",
    "\n",
    "\n"
   ]
  },
  {
   "cell_type": "markdown",
   "metadata": {},
   "source": [
    "##### 设置坐标轴"
   ]
  },
  {
   "cell_type": "code",
   "execution_count": 62,
   "metadata": {},
   "outputs": [
    {
     "name": "stdout",
     "output_type": "stream",
     "text": [
      "机构D #636EFA\n",
      "机构A #EF553B\n",
      "机构E #00CC96\n",
      "机构B #AB63FA\n",
      "机构C #FFA15A\n"
     ]
    },
    {
     "data": {
      "application/vnd.plotly.v1+json": {
       "config": {
        "plotlyServerURL": "https://plot.ly"
       },
       "data": [],
       "layout": {
        "height": 600,
        "shapes": [
         {
          "fillcolor": "#636EFA",
          "line": {
           "width": 0
          },
          "opacity": 0.7,
          "type": "rect",
          "x0": 0,
          "x1": 1,
          "y0": 0,
          "y1": 1
         },
         {
          "fillcolor": "#636EFA",
          "line": {
           "width": 0
          },
          "opacity": 0.7,
          "type": "rect",
          "x0": 0,
          "x1": 1,
          "y0": 1.5,
          "y1": 2.5
         },
         {
          "fillcolor": "#636EFA",
          "line": {
           "width": 0
          },
          "opacity": 0.7,
          "type": "rect",
          "x0": 0,
          "x1": 1,
          "y0": 3,
          "y1": 4
         },
         {
          "fillcolor": "#636EFA",
          "line": {
           "width": 0
          },
          "opacity": 0.7,
          "type": "rect",
          "x0": 0,
          "x1": 1,
          "y0": 4.5,
          "y1": 5.5
         },
         {
          "fillcolor": "#636EFA",
          "line": {
           "width": 0
          },
          "opacity": 0.7,
          "type": "rect",
          "x0": 0,
          "x1": 1,
          "y0": 6,
          "y1": 7
         },
         {
          "fillcolor": "#EF553B",
          "line": {
           "width": 0
          },
          "opacity": 0.7,
          "type": "rect",
          "x0": 0,
          "x1": 1,
          "y0": 9.5,
          "y1": 10.5
         },
         {
          "fillcolor": "#EF553B",
          "line": {
           "width": 0
          },
          "opacity": 0.7,
          "type": "rect",
          "x0": 0,
          "x1": 1,
          "y0": 11,
          "y1": 12
         },
         {
          "fillcolor": "#EF553B",
          "line": {
           "width": 0
          },
          "opacity": 0.7,
          "type": "rect",
          "x0": 0,
          "x1": 1,
          "y0": 12.5,
          "y1": 13.5
         },
         {
          "fillcolor": "#EF553B",
          "line": {
           "width": 0
          },
          "opacity": 0.7,
          "type": "rect",
          "x0": 0,
          "x1": 1,
          "y0": 14,
          "y1": 15
         },
         {
          "fillcolor": "#EF553B",
          "line": {
           "width": 0
          },
          "opacity": 0.7,
          "type": "rect",
          "x0": 0,
          "x1": 1,
          "y0": 15.5,
          "y1": 16.5
         },
         {
          "fillcolor": "#00CC96",
          "line": {
           "width": 0
          },
          "opacity": 0.7,
          "type": "rect",
          "x0": 0,
          "x1": 1,
          "y0": 19,
          "y1": 20
         },
         {
          "fillcolor": "#00CC96",
          "line": {
           "width": 0
          },
          "opacity": 0.7,
          "type": "rect",
          "x0": 0,
          "x1": 1,
          "y0": 20.5,
          "y1": 21.5
         },
         {
          "fillcolor": "#00CC96",
          "line": {
           "width": 0
          },
          "opacity": 0.7,
          "type": "rect",
          "x0": 0,
          "x1": 1,
          "y0": 22,
          "y1": 23
         },
         {
          "fillcolor": "#00CC96",
          "line": {
           "width": 0
          },
          "opacity": 0.7,
          "type": "rect",
          "x0": 0,
          "x1": 1,
          "y0": 23.5,
          "y1": 24.5
         },
         {
          "fillcolor": "#00CC96",
          "line": {
           "width": 0
          },
          "opacity": 0.7,
          "type": "rect",
          "x0": 0,
          "x1": 1,
          "y0": 25,
          "y1": 26
         },
         {
          "fillcolor": "#AB63FA",
          "line": {
           "width": 0
          },
          "opacity": 0.7,
          "type": "rect",
          "x0": 0,
          "x1": 1,
          "y0": 28.5,
          "y1": 29.5
         },
         {
          "fillcolor": "#AB63FA",
          "line": {
           "width": 0
          },
          "opacity": 0.7,
          "type": "rect",
          "x0": 0,
          "x1": 1,
          "y0": 30,
          "y1": 31
         },
         {
          "fillcolor": "#AB63FA",
          "line": {
           "width": 0
          },
          "opacity": 0.7,
          "type": "rect",
          "x0": 0,
          "x1": 1,
          "y0": 31.5,
          "y1": 32.5
         },
         {
          "fillcolor": "#AB63FA",
          "line": {
           "width": 0
          },
          "opacity": 0.7,
          "type": "rect",
          "x0": 0,
          "x1": 1,
          "y0": 33,
          "y1": 34
         },
         {
          "fillcolor": "#AB63FA",
          "line": {
           "width": 0
          },
          "opacity": 0.7,
          "type": "rect",
          "x0": 0,
          "x1": 1,
          "y0": 34.5,
          "y1": 35.5
         },
         {
          "fillcolor": "#FFA15A",
          "line": {
           "width": 0
          },
          "opacity": 0.7,
          "type": "rect",
          "x0": 0,
          "x1": 1,
          "y0": 38,
          "y1": 39
         },
         {
          "fillcolor": "#FFA15A",
          "line": {
           "width": 0
          },
          "opacity": 0.7,
          "type": "rect",
          "x0": 0,
          "x1": 1,
          "y0": 39.5,
          "y1": 40.5
         },
         {
          "fillcolor": "#FFA15A",
          "line": {
           "width": 0
          },
          "opacity": 0.7,
          "type": "rect",
          "x0": 0,
          "x1": 1,
          "y0": 41,
          "y1": 42
         },
         {
          "fillcolor": "#FFA15A",
          "line": {
           "width": 0
          },
          "opacity": 0.7,
          "type": "rect",
          "x0": 0,
          "x1": 1,
          "y0": 42.5,
          "y1": 43.5
         },
         {
          "fillcolor": "#FFA15A",
          "line": {
           "width": 0
          },
          "opacity": 0.7,
          "type": "rect",
          "x0": 0,
          "x1": 1,
          "y0": 44,
          "y1": 45
         }
        ],
        "showlegend": false,
        "template": {
         "data": {
          "bar": [
           {
            "error_x": {
             "color": "#2a3f5f"
            },
            "error_y": {
             "color": "#2a3f5f"
            },
            "marker": {
             "line": {
              "color": "#E5ECF6",
              "width": 0.5
             },
             "pattern": {
              "fillmode": "overlay",
              "size": 10,
              "solidity": 0.2
             }
            },
            "type": "bar"
           }
          ],
          "barpolar": [
           {
            "marker": {
             "line": {
              "color": "#E5ECF6",
              "width": 0.5
             },
             "pattern": {
              "fillmode": "overlay",
              "size": 10,
              "solidity": 0.2
             }
            },
            "type": "barpolar"
           }
          ],
          "carpet": [
           {
            "aaxis": {
             "endlinecolor": "#2a3f5f",
             "gridcolor": "white",
             "linecolor": "white",
             "minorgridcolor": "white",
             "startlinecolor": "#2a3f5f"
            },
            "baxis": {
             "endlinecolor": "#2a3f5f",
             "gridcolor": "white",
             "linecolor": "white",
             "minorgridcolor": "white",
             "startlinecolor": "#2a3f5f"
            },
            "type": "carpet"
           }
          ],
          "choropleth": [
           {
            "colorbar": {
             "outlinewidth": 0,
             "ticks": ""
            },
            "type": "choropleth"
           }
          ],
          "contour": [
           {
            "colorbar": {
             "outlinewidth": 0,
             "ticks": ""
            },
            "colorscale": [
             [
              0,
              "#0d0887"
             ],
             [
              0.1111111111111111,
              "#46039f"
             ],
             [
              0.2222222222222222,
              "#7201a8"
             ],
             [
              0.3333333333333333,
              "#9c179e"
             ],
             [
              0.4444444444444444,
              "#bd3786"
             ],
             [
              0.5555555555555556,
              "#d8576b"
             ],
             [
              0.6666666666666666,
              "#ed7953"
             ],
             [
              0.7777777777777778,
              "#fb9f3a"
             ],
             [
              0.8888888888888888,
              "#fdca26"
             ],
             [
              1,
              "#f0f921"
             ]
            ],
            "type": "contour"
           }
          ],
          "contourcarpet": [
           {
            "colorbar": {
             "outlinewidth": 0,
             "ticks": ""
            },
            "type": "contourcarpet"
           }
          ],
          "heatmap": [
           {
            "colorbar": {
             "outlinewidth": 0,
             "ticks": ""
            },
            "colorscale": [
             [
              0,
              "#0d0887"
             ],
             [
              0.1111111111111111,
              "#46039f"
             ],
             [
              0.2222222222222222,
              "#7201a8"
             ],
             [
              0.3333333333333333,
              "#9c179e"
             ],
             [
              0.4444444444444444,
              "#bd3786"
             ],
             [
              0.5555555555555556,
              "#d8576b"
             ],
             [
              0.6666666666666666,
              "#ed7953"
             ],
             [
              0.7777777777777778,
              "#fb9f3a"
             ],
             [
              0.8888888888888888,
              "#fdca26"
             ],
             [
              1,
              "#f0f921"
             ]
            ],
            "type": "heatmap"
           }
          ],
          "heatmapgl": [
           {
            "colorbar": {
             "outlinewidth": 0,
             "ticks": ""
            },
            "colorscale": [
             [
              0,
              "#0d0887"
             ],
             [
              0.1111111111111111,
              "#46039f"
             ],
             [
              0.2222222222222222,
              "#7201a8"
             ],
             [
              0.3333333333333333,
              "#9c179e"
             ],
             [
              0.4444444444444444,
              "#bd3786"
             ],
             [
              0.5555555555555556,
              "#d8576b"
             ],
             [
              0.6666666666666666,
              "#ed7953"
             ],
             [
              0.7777777777777778,
              "#fb9f3a"
             ],
             [
              0.8888888888888888,
              "#fdca26"
             ],
             [
              1,
              "#f0f921"
             ]
            ],
            "type": "heatmapgl"
           }
          ],
          "histogram": [
           {
            "marker": {
             "pattern": {
              "fillmode": "overlay",
              "size": 10,
              "solidity": 0.2
             }
            },
            "type": "histogram"
           }
          ],
          "histogram2d": [
           {
            "colorbar": {
             "outlinewidth": 0,
             "ticks": ""
            },
            "colorscale": [
             [
              0,
              "#0d0887"
             ],
             [
              0.1111111111111111,
              "#46039f"
             ],
             [
              0.2222222222222222,
              "#7201a8"
             ],
             [
              0.3333333333333333,
              "#9c179e"
             ],
             [
              0.4444444444444444,
              "#bd3786"
             ],
             [
              0.5555555555555556,
              "#d8576b"
             ],
             [
              0.6666666666666666,
              "#ed7953"
             ],
             [
              0.7777777777777778,
              "#fb9f3a"
             ],
             [
              0.8888888888888888,
              "#fdca26"
             ],
             [
              1,
              "#f0f921"
             ]
            ],
            "type": "histogram2d"
           }
          ],
          "histogram2dcontour": [
           {
            "colorbar": {
             "outlinewidth": 0,
             "ticks": ""
            },
            "colorscale": [
             [
              0,
              "#0d0887"
             ],
             [
              0.1111111111111111,
              "#46039f"
             ],
             [
              0.2222222222222222,
              "#7201a8"
             ],
             [
              0.3333333333333333,
              "#9c179e"
             ],
             [
              0.4444444444444444,
              "#bd3786"
             ],
             [
              0.5555555555555556,
              "#d8576b"
             ],
             [
              0.6666666666666666,
              "#ed7953"
             ],
             [
              0.7777777777777778,
              "#fb9f3a"
             ],
             [
              0.8888888888888888,
              "#fdca26"
             ],
             [
              1,
              "#f0f921"
             ]
            ],
            "type": "histogram2dcontour"
           }
          ],
          "mesh3d": [
           {
            "colorbar": {
             "outlinewidth": 0,
             "ticks": ""
            },
            "type": "mesh3d"
           }
          ],
          "parcoords": [
           {
            "line": {
             "colorbar": {
              "outlinewidth": 0,
              "ticks": ""
             }
            },
            "type": "parcoords"
           }
          ],
          "pie": [
           {
            "automargin": true,
            "type": "pie"
           }
          ],
          "scatter": [
           {
            "fillpattern": {
             "fillmode": "overlay",
             "size": 10,
             "solidity": 0.2
            },
            "type": "scatter"
           }
          ],
          "scatter3d": [
           {
            "line": {
             "colorbar": {
              "outlinewidth": 0,
              "ticks": ""
             }
            },
            "marker": {
             "colorbar": {
              "outlinewidth": 0,
              "ticks": ""
             }
            },
            "type": "scatter3d"
           }
          ],
          "scattercarpet": [
           {
            "marker": {
             "colorbar": {
              "outlinewidth": 0,
              "ticks": ""
             }
            },
            "type": "scattercarpet"
           }
          ],
          "scattergeo": [
           {
            "marker": {
             "colorbar": {
              "outlinewidth": 0,
              "ticks": ""
             }
            },
            "type": "scattergeo"
           }
          ],
          "scattergl": [
           {
            "marker": {
             "colorbar": {
              "outlinewidth": 0,
              "ticks": ""
             }
            },
            "type": "scattergl"
           }
          ],
          "scattermapbox": [
           {
            "marker": {
             "colorbar": {
              "outlinewidth": 0,
              "ticks": ""
             }
            },
            "type": "scattermapbox"
           }
          ],
          "scatterpolar": [
           {
            "marker": {
             "colorbar": {
              "outlinewidth": 0,
              "ticks": ""
             }
            },
            "type": "scatterpolar"
           }
          ],
          "scatterpolargl": [
           {
            "marker": {
             "colorbar": {
              "outlinewidth": 0,
              "ticks": ""
             }
            },
            "type": "scatterpolargl"
           }
          ],
          "scatterternary": [
           {
            "marker": {
             "colorbar": {
              "outlinewidth": 0,
              "ticks": ""
             }
            },
            "type": "scatterternary"
           }
          ],
          "surface": [
           {
            "colorbar": {
             "outlinewidth": 0,
             "ticks": ""
            },
            "colorscale": [
             [
              0,
              "#0d0887"
             ],
             [
              0.1111111111111111,
              "#46039f"
             ],
             [
              0.2222222222222222,
              "#7201a8"
             ],
             [
              0.3333333333333333,
              "#9c179e"
             ],
             [
              0.4444444444444444,
              "#bd3786"
             ],
             [
              0.5555555555555556,
              "#d8576b"
             ],
             [
              0.6666666666666666,
              "#ed7953"
             ],
             [
              0.7777777777777778,
              "#fb9f3a"
             ],
             [
              0.8888888888888888,
              "#fdca26"
             ],
             [
              1,
              "#f0f921"
             ]
            ],
            "type": "surface"
           }
          ],
          "table": [
           {
            "cells": {
             "fill": {
              "color": "#EBF0F8"
             },
             "line": {
              "color": "white"
             }
            },
            "header": {
             "fill": {
              "color": "#C8D4E3"
             },
             "line": {
              "color": "white"
             }
            },
            "type": "table"
           }
          ]
         },
         "layout": {
          "annotationdefaults": {
           "arrowcolor": "#2a3f5f",
           "arrowhead": 0,
           "arrowwidth": 1
          },
          "autotypenumbers": "strict",
          "coloraxis": {
           "colorbar": {
            "outlinewidth": 0,
            "ticks": ""
           }
          },
          "colorscale": {
           "diverging": [
            [
             0,
             "#8e0152"
            ],
            [
             0.1,
             "#c51b7d"
            ],
            [
             0.2,
             "#de77ae"
            ],
            [
             0.3,
             "#f1b6da"
            ],
            [
             0.4,
             "#fde0ef"
            ],
            [
             0.5,
             "#f7f7f7"
            ],
            [
             0.6,
             "#e6f5d0"
            ],
            [
             0.7,
             "#b8e186"
            ],
            [
             0.8,
             "#7fbc41"
            ],
            [
             0.9,
             "#4d9221"
            ],
            [
             1,
             "#276419"
            ]
           ],
           "sequential": [
            [
             0,
             "#0d0887"
            ],
            [
             0.1111111111111111,
             "#46039f"
            ],
            [
             0.2222222222222222,
             "#7201a8"
            ],
            [
             0.3333333333333333,
             "#9c179e"
            ],
            [
             0.4444444444444444,
             "#bd3786"
            ],
            [
             0.5555555555555556,
             "#d8576b"
            ],
            [
             0.6666666666666666,
             "#ed7953"
            ],
            [
             0.7777777777777778,
             "#fb9f3a"
            ],
            [
             0.8888888888888888,
             "#fdca26"
            ],
            [
             1,
             "#f0f921"
            ]
           ],
           "sequentialminus": [
            [
             0,
             "#0d0887"
            ],
            [
             0.1111111111111111,
             "#46039f"
            ],
            [
             0.2222222222222222,
             "#7201a8"
            ],
            [
             0.3333333333333333,
             "#9c179e"
            ],
            [
             0.4444444444444444,
             "#bd3786"
            ],
            [
             0.5555555555555556,
             "#d8576b"
            ],
            [
             0.6666666666666666,
             "#ed7953"
            ],
            [
             0.7777777777777778,
             "#fb9f3a"
            ],
            [
             0.8888888888888888,
             "#fdca26"
            ],
            [
             1,
             "#f0f921"
            ]
           ]
          },
          "colorway": [
           "#636efa",
           "#EF553B",
           "#00cc96",
           "#ab63fa",
           "#FFA15A",
           "#19d3f3",
           "#FF6692",
           "#B6E880",
           "#FF97FF",
           "#FECB52"
          ],
          "font": {
           "color": "#2a3f5f"
          },
          "geo": {
           "bgcolor": "white",
           "lakecolor": "white",
           "landcolor": "#E5ECF6",
           "showlakes": true,
           "showland": true,
           "subunitcolor": "white"
          },
          "hoverlabel": {
           "align": "left"
          },
          "hovermode": "closest",
          "mapbox": {
           "style": "light"
          },
          "paper_bgcolor": "white",
          "plot_bgcolor": "#E5ECF6",
          "polar": {
           "angularaxis": {
            "gridcolor": "white",
            "linecolor": "white",
            "ticks": ""
           },
           "bgcolor": "#E5ECF6",
           "radialaxis": {
            "gridcolor": "white",
            "linecolor": "white",
            "ticks": ""
           }
          },
          "scene": {
           "xaxis": {
            "backgroundcolor": "#E5ECF6",
            "gridcolor": "white",
            "gridwidth": 2,
            "linecolor": "white",
            "showbackground": true,
            "ticks": "",
            "zerolinecolor": "white"
           },
           "yaxis": {
            "backgroundcolor": "#E5ECF6",
            "gridcolor": "white",
            "gridwidth": 2,
            "linecolor": "white",
            "showbackground": true,
            "ticks": "",
            "zerolinecolor": "white"
           },
           "zaxis": {
            "backgroundcolor": "#E5ECF6",
            "gridcolor": "white",
            "gridwidth": 2,
            "linecolor": "white",
            "showbackground": true,
            "ticks": "",
            "zerolinecolor": "white"
           }
          },
          "shapedefaults": {
           "line": {
            "color": "#2a3f5f"
           }
          },
          "ternary": {
           "aaxis": {
            "gridcolor": "white",
            "linecolor": "white",
            "ticks": ""
           },
           "baxis": {
            "gridcolor": "white",
            "linecolor": "white",
            "ticks": ""
           },
           "bgcolor": "#E5ECF6",
           "caxis": {
            "gridcolor": "white",
            "linecolor": "white",
            "ticks": ""
           }
          },
          "title": {
           "x": 0.05
          },
          "xaxis": {
           "automargin": true,
           "gridcolor": "white",
           "linecolor": "white",
           "ticks": "",
           "title": {
            "standoff": 15
           },
           "zerolinecolor": "white",
           "zerolinewidth": 2
          },
          "yaxis": {
           "automargin": true,
           "gridcolor": "white",
           "linecolor": "white",
           "ticks": "",
           "title": {
            "standoff": 15
           },
           "zerolinecolor": "white",
           "zerolinewidth": 2
          }
         }
        },
        "title": {
         "text": "机构和交易员时间分布图"
        },
        "width": 800,
        "xaxis": {
         "range": [
          0,
          200
         ],
         "tickmode": "array",
         "ticktext": [
          "2024-09-11",
          "2024-09-08",
          "2024-09-05",
          "2024-09-02",
          "2024-08-30",
          "2024-08-26",
          "2024-08-23",
          "2024-08-20",
          "2024-08-17",
          "2024-08-13"
         ],
         "tickvals": [
          0,
          22.22222222222222,
          44.44444444444444,
          66.66666666666667,
          88.88888888888889,
          111.11111111111111,
          133.33333333333334,
          155.55555555555554,
          177.77777777777777,
          200
         ],
         "title": {
          "text": "交易时间"
         }
        },
        "yaxis": {
         "range": [
          45,
          -1
         ],
         "title": {
          "text": "机构和交易员"
         }
        }
       }
      }
     },
     "metadata": {},
     "output_type": "display_data"
    }
   ],
   "source": [
    "import plotly.graph_objects as go\n",
    "\n",
    "# 创建图形\n",
    "fig = go.Figure()\n",
    "\n",
    "# 设置布局\n",
    "fig.update_layout(\n",
    "    title=\"机构和交易员时间分布图\",\n",
    "    xaxis_title=\"交易时间\",\n",
    "    yaxis_title=\"机构和交易员\",\n",
    "    # xaxis=dict(autorange=\"reversed\"),\n",
    "    xaxis=dict(\n",
    "        # autorange=\"reversed\",\n",
    "        range=[CONSTRANTS[\"x_start\"], CONSTRANTS[\"x_end\"]],\n",
    "        tickmode='array', # 设置刻度模式为\"数组\"模式，手动指定刻度位置和标签\n",
    "        tickvals=[\n",
    "            CONSTRANTS[\"x_start\"] + i * CONSTRANTS[\"x_range\"] / ((t_duration // CONSTRANTS[\"axis_slot\"] + 1) - 1)\n",
    "            for i in range(t_duration // CONSTRANTS[\"axis_slot\"] + 1)\n",
    "        ], # 根据t_duration计算刻度位置\n",
    "        ticktext=[\n",
    "            (t_latest - timedelta(days=i * t_duration / ((t_duration // CONSTRANTS[\"axis_slot\"] + 1) - 1))).strftime('%Y-%m-%d')\n",
    "            for i in range(t_duration // CONSTRANTS[\"axis_slot\"] + 1)\n",
    "        ] # 根据计算的刻度位置生成对应的日期标签\n",
    "    ),\n",
    "    yaxis=dict(\n",
    "        # autorange=\"reversed\",\n",
    "        range=[max(CONSTRANTS[\"y_loc\"].values()) + CONSTRANTS[\"trader_h\"], min(CONSTRANTS[\"y_loc\"].values()) - CONSTRANTS[\"trader_h\"]]\n",
    "    ),\n",
    "    showlegend=False,\n",
    "    height=600,\n",
    "    width=800,\n",
    ")\n",
    "\n",
    "# 为每个机构和交易员添加长方形\n",
    "for instn, trader_list in institution_traders.items():\n",
    "    clr = institution_colors[instn]\n",
    "    print(instn, clr)\n",
    "    # 添加交易员长方形\n",
    "    for trader in trader_list:\n",
    "        y_loc = CONSTRANTS[\"y_loc\"][f\"{instn}-{trader}\"]\n",
    "        fig.add_shape(\n",
    "            type=\"rect\",\n",
    "            x0=CONSTRANTS[\"x_start\"], x1=CONSTRANTS[\"trader_w\"],\n",
    "            y0 = y_loc, y1 = y_loc + CONSTRANTS[\"trader_h\"],\n",
    "            fillcolor=clr,\n",
    "            opacity=0.7,\n",
    "            line=dict(width=0),\n",
    "        )\n",
    "\n",
    "# 显示图表\n",
    "fig.show()"
   ]
  },
  {
   "cell_type": "markdown",
   "metadata": {},
   "source": [
    "##### 简单展示边"
   ]
  },
  {
   "cell_type": "code",
   "execution_count": 58,
   "metadata": {},
   "outputs": [
    {
     "ename": "KeyError",
     "evalue": "'交易时间'",
     "output_type": "error",
     "traceback": [
      "\u001b[0;31m---------------------------------------------------------------------------\u001b[0m",
      "\u001b[0;31mKeyError\u001b[0m                                  Traceback (most recent call last)",
      "File \u001b[0;32m/opt/anaconda3/envs/bondvis/lib/python3.9/site-packages/pandas/core/indexes/base.py:3805\u001b[0m, in \u001b[0;36mIndex.get_loc\u001b[0;34m(self, key)\u001b[0m\n\u001b[1;32m   3804\u001b[0m \u001b[38;5;28;01mtry\u001b[39;00m:\n\u001b[0;32m-> 3805\u001b[0m     \u001b[38;5;28;01mreturn\u001b[39;00m \u001b[38;5;28;43mself\u001b[39;49m\u001b[38;5;241;43m.\u001b[39;49m\u001b[43m_engine\u001b[49m\u001b[38;5;241;43m.\u001b[39;49m\u001b[43mget_loc\u001b[49m\u001b[43m(\u001b[49m\u001b[43mcasted_key\u001b[49m\u001b[43m)\u001b[49m\n\u001b[1;32m   3806\u001b[0m \u001b[38;5;28;01mexcept\u001b[39;00m \u001b[38;5;167;01mKeyError\u001b[39;00m \u001b[38;5;28;01mas\u001b[39;00m err:\n",
      "File \u001b[0;32mindex.pyx:167\u001b[0m, in \u001b[0;36mpandas._libs.index.IndexEngine.get_loc\u001b[0;34m()\u001b[0m\n",
      "File \u001b[0;32mindex.pyx:196\u001b[0m, in \u001b[0;36mpandas._libs.index.IndexEngine.get_loc\u001b[0;34m()\u001b[0m\n",
      "File \u001b[0;32mpandas/_libs/hashtable_class_helper.pxi:7081\u001b[0m, in \u001b[0;36mpandas._libs.hashtable.PyObjectHashTable.get_item\u001b[0;34m()\u001b[0m\n",
      "File \u001b[0;32mpandas/_libs/hashtable_class_helper.pxi:7089\u001b[0m, in \u001b[0;36mpandas._libs.hashtable.PyObjectHashTable.get_item\u001b[0;34m()\u001b[0m\n",
      "\u001b[0;31mKeyError\u001b[0m: '交易时间'",
      "\nThe above exception was the direct cause of the following exception:\n",
      "\u001b[0;31mKeyError\u001b[0m                                  Traceback (most recent call last)",
      "Cell \u001b[0;32mIn[58], line 15\u001b[0m\n\u001b[1;32m     13\u001b[0m \u001b[38;5;66;03m# 获取交易时间对应的x坐标\u001b[39;00m\n\u001b[1;32m     14\u001b[0m sell_x \u001b[38;5;241m=\u001b[39m time_to_length(trade_time)\n\u001b[0;32m---> 15\u001b[0m prevSell4buy \u001b[38;5;241m=\u001b[39m net_df[(net_df[\u001b[38;5;124m'\u001b[39m\u001b[38;5;124m卖方机构\u001b[39m\u001b[38;5;124m'\u001b[39m] \u001b[38;5;241m==\u001b[39m buy_institution) \u001b[38;5;241m&\u001b[39m (net_df[\u001b[38;5;124m'\u001b[39m\u001b[38;5;124m卖方交易员\u001b[39m\u001b[38;5;124m'\u001b[39m] \u001b[38;5;241m==\u001b[39m buy_trader) \u001b[38;5;241m&\u001b[39m (\u001b[43mnet_df\u001b[49m\u001b[43m[\u001b[49m\u001b[38;5;124;43m'\u001b[39;49m\u001b[38;5;124;43m交易时间\u001b[39;49m\u001b[38;5;124;43m'\u001b[39;49m\u001b[43m]\u001b[49m \u001b[38;5;241m<\u001b[39m trade_time)]\n\u001b[1;32m     16\u001b[0m \u001b[38;5;66;03m# buy_x  = \u001b[39;00m\n\u001b[1;32m     23\u001b[0m trade_x \u001b[38;5;241m=\u001b[39m time_to_length(trade_time)\n",
      "File \u001b[0;32m/opt/anaconda3/envs/bondvis/lib/python3.9/site-packages/pandas/core/frame.py:4102\u001b[0m, in \u001b[0;36mDataFrame.__getitem__\u001b[0;34m(self, key)\u001b[0m\n\u001b[1;32m   4100\u001b[0m \u001b[38;5;28;01mif\u001b[39;00m \u001b[38;5;28mself\u001b[39m\u001b[38;5;241m.\u001b[39mcolumns\u001b[38;5;241m.\u001b[39mnlevels \u001b[38;5;241m>\u001b[39m \u001b[38;5;241m1\u001b[39m:\n\u001b[1;32m   4101\u001b[0m     \u001b[38;5;28;01mreturn\u001b[39;00m \u001b[38;5;28mself\u001b[39m\u001b[38;5;241m.\u001b[39m_getitem_multilevel(key)\n\u001b[0;32m-> 4102\u001b[0m indexer \u001b[38;5;241m=\u001b[39m \u001b[38;5;28;43mself\u001b[39;49m\u001b[38;5;241;43m.\u001b[39;49m\u001b[43mcolumns\u001b[49m\u001b[38;5;241;43m.\u001b[39;49m\u001b[43mget_loc\u001b[49m\u001b[43m(\u001b[49m\u001b[43mkey\u001b[49m\u001b[43m)\u001b[49m\n\u001b[1;32m   4103\u001b[0m \u001b[38;5;28;01mif\u001b[39;00m is_integer(indexer):\n\u001b[1;32m   4104\u001b[0m     indexer \u001b[38;5;241m=\u001b[39m [indexer]\n",
      "File \u001b[0;32m/opt/anaconda3/envs/bondvis/lib/python3.9/site-packages/pandas/core/indexes/base.py:3812\u001b[0m, in \u001b[0;36mIndex.get_loc\u001b[0;34m(self, key)\u001b[0m\n\u001b[1;32m   3807\u001b[0m     \u001b[38;5;28;01mif\u001b[39;00m \u001b[38;5;28misinstance\u001b[39m(casted_key, \u001b[38;5;28mslice\u001b[39m) \u001b[38;5;129;01mor\u001b[39;00m (\n\u001b[1;32m   3808\u001b[0m         \u001b[38;5;28misinstance\u001b[39m(casted_key, abc\u001b[38;5;241m.\u001b[39mIterable)\n\u001b[1;32m   3809\u001b[0m         \u001b[38;5;129;01mand\u001b[39;00m \u001b[38;5;28many\u001b[39m(\u001b[38;5;28misinstance\u001b[39m(x, \u001b[38;5;28mslice\u001b[39m) \u001b[38;5;28;01mfor\u001b[39;00m x \u001b[38;5;129;01min\u001b[39;00m casted_key)\n\u001b[1;32m   3810\u001b[0m     ):\n\u001b[1;32m   3811\u001b[0m         \u001b[38;5;28;01mraise\u001b[39;00m InvalidIndexError(key)\n\u001b[0;32m-> 3812\u001b[0m     \u001b[38;5;28;01mraise\u001b[39;00m \u001b[38;5;167;01mKeyError\u001b[39;00m(key) \u001b[38;5;28;01mfrom\u001b[39;00m \u001b[38;5;21;01merr\u001b[39;00m\n\u001b[1;32m   3813\u001b[0m \u001b[38;5;28;01mexcept\u001b[39;00m \u001b[38;5;167;01mTypeError\u001b[39;00m:\n\u001b[1;32m   3814\u001b[0m     \u001b[38;5;66;03m# If we have a listlike key, _check_indexing_error will raise\u001b[39;00m\n\u001b[1;32m   3815\u001b[0m     \u001b[38;5;66;03m#  InvalidIndexError. Otherwise we fall through and re-raise\u001b[39;00m\n\u001b[1;32m   3816\u001b[0m     \u001b[38;5;66;03m#  the TypeError.\u001b[39;00m\n\u001b[1;32m   3817\u001b[0m     \u001b[38;5;28mself\u001b[39m\u001b[38;5;241m.\u001b[39m_check_indexing_error(key)\n",
      "\u001b[0;31mKeyError\u001b[0m: '交易时间'"
     ]
    }
   ],
   "source": [
    "# 创建交易边\n",
    "for _, trade in net_df.iterrows():\n",
    "    sell_institution = trade['卖方机构']\n",
    "    sell_trader = trade['卖方交易员']\n",
    "    buy_institution = trade['买方机构']\n",
    "    buy_trader = trade['买方交易员']\n",
    "    trade_time = trade['交易日期']\n",
    "    \n",
    "    # 获取卖方和买方的y坐标\n",
    "    sell_y = CONSTRANTS[\"y_loc\"][f\"{sell_institution}-{sell_trader}\"] + CONSTRANTS[\"trader_h\"] / 2\n",
    "    buy_y = CONSTRANTS[\"y_loc\"][f\"{buy_institution}-{buy_trader}\"] + CONSTRANTS[\"trader_h\"] / 2\n",
    "    \n",
    "    # 获取交易时间对应的x坐标\n",
    "    sell_x = time_to_length(trade_time)\n",
    "    prevSell4buy = net_df[(net_df['卖方机构'] == buy_institution) & (net_df['卖方交易员'] == buy_trader) & (net_df['交易日期'] < trade_time)]\n",
    "    # buy_x  = \n",
    "\n",
    "\n",
    "\n",
    "\n",
    "\n",
    "\n",
    "    trade_x = time_to_length(trade_time)\n",
    "    \n",
    "    # 获取买方上一次交易的时间 #TODO:这里买卖有问题\n",
    "    prev_trades = net_df[(net_df['买方机构'] == buy_institution) & (net_df['买方交易员'] == buy_trader) & (net_df['交易日期'] < trade_time)]\n",
    "    print(\"\\n\", prev_trades)\n",
    "    if not prev_trades.empty:\n",
    "        try:\n",
    "            prev_trade_time = prev_trades['交易日期'].max()\n",
    "            prev_x = time_to_length(prev_trade_time)\n",
    "        except:\n",
    "            print(f\"//**//**// error {prev_trades['交易日期']}\")\n",
    "            prev_x = CONSTRANTS[\"x_end\"]\n",
    "    else:\n",
    "        prev_x = CONSTRANTS[\"x_end\"]\n",
    "    \n",
    "    # 添加交易边\n",
    "    fig.add_trace(go.Scatter(\n",
    "        x=[trade_x, prev_x],\n",
    "        y=[sell_y, buy_y],\n",
    "        mode='lines',\n",
    "        line=dict(color='rgba(0,0,0,0.1)', width=1),\n",
    "        hoverinfo='none'\n",
    "    ))\n",
    "\n",
    "# 显示图表\n",
    "fig.show()\n"
   ]
  },
  {
   "cell_type": "markdown",
   "metadata": {},
   "source": [
    "##### 使用 Sankey 图表示边"
   ]
  },
  {
   "cell_type": "code",
   "execution_count": null,
   "metadata": {},
   "outputs": [],
   "source": []
  }
 ],
 "metadata": {
  "kernelspec": {
   "display_name": "bondvis",
   "language": "python",
   "name": "python3"
  },
  "language_info": {
   "codemirror_mode": {
    "name": "ipython",
    "version": 3
   },
   "file_extension": ".py",
   "mimetype": "text/x-python",
   "name": "python",
   "nbconvert_exporter": "python",
   "pygments_lexer": "ipython3",
   "version": "3.9.19"
  }
 },
 "nbformat": 4,
 "nbformat_minor": 2
}
